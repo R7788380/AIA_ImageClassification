{
 "cells": [
  {
   "cell_type": "markdown",
   "metadata": {},
   "source": [
    "## 隱藏代碼按鈕"
   ]
  },
  {
   "cell_type": "code",
   "execution_count": 1,
   "metadata": {},
   "outputs": [
    {
     "data": {
      "text/html": [
       "<script>\n",
       "code_show=true; \n",
       "function code_toggle() {\n",
       " if (code_show){\n",
       " $('div.input').hide();\n",
       " } else {\n",
       " $('div.input').show();\n",
       " }\n",
       " code_show = !code_show\n",
       "} \n",
       "$( document ).ready(code_toggle);\n",
       "</script>\n",
       "<form action=\"javascript:code_toggle()\"><input type=\"submit\" value=\"Click here to toggle on/off the raw code.\"></form>"
      ],
      "text/plain": [
       "<IPython.core.display.HTML object>"
      ]
     },
     "execution_count": 1,
     "metadata": {},
     "output_type": "execute_result"
    }
   ],
   "source": [
    "from IPython.display import HTML\n",
    "\n",
    "HTML('''<script>\n",
    "code_show=true; \n",
    "function code_toggle() {\n",
    " if (code_show){\n",
    " $('div.input').hide();\n",
    " } else {\n",
    " $('div.input').show();\n",
    " }\n",
    " code_show = !code_show\n",
    "} \n",
    "$( document ).ready(code_toggle);\n",
    "</script>\n",
    "<form action=\"javascript:code_toggle()\"><input type=\"submit\" value=\"Click here to toggle on/off the raw code.\"></form>''')"
   ]
  },
  {
   "cell_type": "markdown",
   "metadata": {},
   "source": [
    "# 作業環境"
   ]
  },
  {
   "cell_type": "code",
   "execution_count": 2,
   "metadata": {
    "scrolled": false
   },
   "outputs": [
    {
     "name": "stdout",
     "output_type": "stream",
     "text": [
      "Python 3.5.2\r\n"
     ]
    },
    {
     "name": "stderr",
     "output_type": "stream",
     "text": [
      "Using TensorFlow backend.\n"
     ]
    },
    {
     "name": "stdout",
     "output_type": "stream",
     "text": [
      "name: \"/device:GPU:0\"\n",
      "device_type: \"GPU\"\n",
      "memory_limit: 9926918144\n",
      "locality {\n",
      "  bus_id: 1\n",
      "  links {\n",
      "    link {\n",
      "      device_id: 1\n",
      "      type: \"StreamExecutor\"\n",
      "      strength: 1\n",
      "    }\n",
      "  }\n",
      "}\n",
      "incarnation: 12892680895430378061\n",
      "physical_device_desc: \"device: 0, name: GeForce GTX 1080 Ti, pci bus id: 0000:03:00.0, compute capability: 6.1\"\n",
      "\n",
      "tensorflow version:  1.8.0\n",
      "keras version:  2.1.6\n"
     ]
    }
   ],
   "source": [
    "import warnings\n",
    "warnings.filterwarnings('ignore')\n",
    "from tensorflow.python.client import device_lib\n",
    "import tensorflow as tf\n",
    "import keras\n",
    "!python3 --version\n",
    "print(device_lib.list_local_devices()[1])\n",
    "print('tensorflow version: ',tf.__version__)\n",
    "print('keras version: ',keras.__version__)"
   ]
  },
  {
   "cell_type": "markdown",
   "metadata": {},
   "source": [
    "# [15 scene category](https://www.kaggle.com/c/aia-tc-image-cla-where-am-i)"
   ]
  },
  {
   "cell_type": "code",
   "execution_count": 3,
   "metadata": {},
   "outputs": [],
   "source": [
    "# processing module\n",
    "from matplotlib.pylab import rcParams\n",
    "import matplotlib.pyplot as plt\n",
    "import seaborn as sns\n",
    "import numpy as np\n",
    "import pandas as pd\n",
    "import cv2\n",
    "import os\n",
    "os.chdir('data/examples/may_the_4_be_with_u/where_am_i/')"
   ]
  },
  {
   "cell_type": "code",
   "execution_count": 4,
   "metadata": {
    "scrolled": true
   },
   "outputs": [],
   "source": [
    "# training module\n",
    "import tensorflow as tf\n",
    "from keras import models, layers, optimizers\n",
    "from keras import applications\n",
    "from keras.preprocessing.image import ImageDataGenerator\n",
    "from keras.preprocessing import image"
   ]
  },
  {
   "cell_type": "markdown",
   "metadata": {},
   "source": [
    "## 建立`pipeline`\n",
    "\n",
    "![pipeline](pipeline.png)"
   ]
  },
  {
   "cell_type": "code",
   "execution_count": 5,
   "metadata": {},
   "outputs": [
    {
     "name": "stdout",
     "output_type": "stream",
     "text": [
      "    classname                        img\n",
      "0  industrial  industrial/image_0078.jpg\n",
      "1  industrial  industrial/image_0016.jpg\n",
      "2  industrial  industrial/image_0022.jpg\n",
      "3  industrial  industrial/image_0072.jpg\n",
      "4  industrial  industrial/image_0014.jpg\n"
     ]
    }
   ],
   "source": [
    "# classnum = os.listdir('train/')\n",
    "# pipline = pd.DataFrame(columns=['classname','img'])\n",
    "# for i in range(len(classnum)):\n",
    "#     filename = os.listdir('train/' + classnum[i])\n",
    "#     data_dict = {'classname':np.repeat(classnum[i],len(filename)),\n",
    "#                  'img':[classnum[i] + '/' + v for v in filename]}\n",
    "#     data = pd.DataFrame(data=data_dict)\n",
    "#     pipline = pd.concat([pipline,data],axis=0,ignore_index=True)\n",
    "#pipline.to_csv('pipline.csv',index=False)\n",
    "pipline = pd.read_csv('pipeline.csv')\n",
    "print(pipline.head())"
   ]
  },
  {
   "cell_type": "markdown",
   "metadata": {},
   "source": [
    "## 觀察各類別數量\n",
    "\n",
    "`training set`共有$2985$張圖片，而`testing`共有$1500$張圖片。"
   ]
  },
  {
   "cell_type": "code",
   "execution_count": 6,
   "metadata": {},
   "outputs": [
    {
     "data": {
      "text/plain": [
       "opencountry     310\n",
       "mountain        274\n",
       "coast           260\n",
       "tallbuilding    256\n",
       "forest          228\n",
       "store           215\n",
       "industrial      211\n",
       "insidecity      208\n",
       "street          192\n",
       "livingroom      189\n",
       "highway         160\n",
       "CALsuburb       141\n",
       "bedroom         116\n",
       "PARoffice       115\n",
       "kitchen         110\n",
       "Name: classname, dtype: int64"
      ]
     },
     "execution_count": 6,
     "metadata": {},
     "output_type": "execute_result"
    }
   ],
   "source": [
    "pipline.classname.value_counts()"
   ]
  },
  {
   "cell_type": "markdown",
   "metadata": {},
   "source": [
    "## 觀察一張圖"
   ]
  },
  {
   "cell_type": "code",
   "execution_count": 7,
   "metadata": {},
   "outputs": [
    {
     "name": "stdout",
     "output_type": "stream",
     "text": [
      "(220, 308, 3)\n"
     ]
    }
   ],
   "source": [
    "img = cv2.imread('train/' + pipline.img[0])\n",
    "print(img.shape)"
   ]
  },
  {
   "cell_type": "code",
   "execution_count": 8,
   "metadata": {},
   "outputs": [
    {
     "data": {
      "image/png": "[encoded data removed]",
      "text/plain": [
       "<matplotlib.figure.Figure at 0x7f9dcc0cecf8>"
      ]
     },
     "metadata": {},
     "output_type": "display_data"
    }
   ],
   "source": [
    "plt.figure(figsize=(5,5))\n",
    "plt.imshow(img)\n",
    "plt.show()"
   ]
  },
  {
   "cell_type": "markdown",
   "metadata": {},
   "source": [
    "發現其中一張圖片是由3種一樣的channel組成，之後會檢查是不是所有圖片的每個`channel`都長得一模一樣，圖片每一點每一個`pixel`範圍是`0~255`，代表像素的灰度值，值越大，表示顏色越淺，值越小，顏色越深。"
   ]
  },
  {
   "cell_type": "code",
   "execution_count": 9,
   "metadata": {},
   "outputs": [
    {
     "data": {
      "image/png": "[encoded data removed]",
      "text/plain": [
       "<matplotlib.figure.Figure at 0x7f9db4054f28>"
      ]
     },
     "metadata": {},
     "output_type": "display_data"
    }
   ],
   "source": [
    "rcParams['figure.figsize'] = (15,17)\n",
    "for i in range(3):\n",
    "    plt.subplot(1,3,i+1)\n",
    "    plt.imshow(img[:,:,i])\n",
    "    plt.title('channel: %d' % (i+1))\n",
    "plt.show()"
   ]
  },
  {
   "cell_type": "markdown",
   "metadata": {},
   "source": [
    "發現每張圖片的每個`channel`都一模一樣。"
   ]
  },
  {
   "cell_type": "code",
   "execution_count": 10,
   "metadata": {},
   "outputs": [],
   "source": [
    "classlst = os.listdir('train/')\n",
    "ckls = []\n",
    "for i in range(len(classlst)):\n",
    "    dd = os.listdir('train/' + classlst[i])\n",
    "    for j in range(len(dd)):\n",
    "        cc = cv2.imread('train/' + classlst[i] + '/' + dd[j])\n",
    "        if np.logical_and((cc[:,:,0]==cc[:,:,1]).all(), (cc[:,:,1]==cc[:,:,2]).all()):\n",
    "            ckls.append(True)\n",
    "        else:\n",
    "            ckls.append(False)"
   ]
  },
  {
   "cell_type": "code",
   "execution_count": 11,
   "metadata": {},
   "outputs": [
    {
     "name": "stdout",
     "output_type": "stream",
     "text": [
      "{True}\n"
     ]
    }
   ],
   "source": [
    "print(set(ckls))"
   ]
  },
  {
   "cell_type": "markdown",
   "metadata": {},
   "source": [
    "### 觀察每個種類的圖片長度與寬度，來決定要`resize`成多少，或是要配合模型本身的預設`size`。"
   ]
  },
  {
   "cell_type": "code",
   "execution_count": 12,
   "metadata": {},
   "outputs": [],
   "source": [
    "train_path = os.listdir('train/' + classlst[0])"
   ]
  },
  {
   "cell_type": "code",
   "execution_count": 13,
   "metadata": {},
   "outputs": [],
   "source": [
    "height = {}\n",
    "width = {}\n",
    "colorchannel = {}\n",
    "for i in range(len(classlst)):\n",
    "    shape0 = []\n",
    "    shape1 = []\n",
    "    shape2 = []\n",
    "    train_path = os.listdir('train/' + classlst[i])\n",
    "    for j in range(len(train_path)):\n",
    "        cc = cv2.imread('train/' + classlst[i] + '/' + train_path[j])\n",
    "        shape0.append(cc.shape[0])\n",
    "        shape1.append(cc.shape[1])\n",
    "        shape2.append(cc.shape[2])\n",
    "        \n",
    "    shape0 = np.unique(shape0)\n",
    "    shape1 = np.unique(shape1)\n",
    "    shape2 = np.unique(shape2)\n",
    "    \n",
    "    height[classlst[i]] = shape0\n",
    "    width[classlst[i]] = shape1\n",
    "    colorchannel[classlst[i]] = shape2"
   ]
  },
  {
   "cell_type": "code",
   "execution_count": 14,
   "metadata": {},
   "outputs": [
    {
     "name": "stdout",
     "output_type": "stream",
     "text": [
      "Unique height for each class: \n"
     ]
    },
    {
     "data": {
      "text/plain": [
       "{'CALsuburb': array([220]),\n",
       " 'PARoffice': array([220]),\n",
       " 'bedroom': array([200, 219, 220, 223, 237, 286, 292, 293, 331]),\n",
       " 'coast': array([256]),\n",
       " 'forest': array([256]),\n",
       " 'highway': array([256]),\n",
       " 'industrial': array([220, 223, 238, 247, 257, 263, 265, 268, 269, 272, 289, 293, 294,\n",
       "        296, 301, 303, 310, 311, 312, 313, 323, 325, 327, 330, 331, 333,\n",
       "        336, 338, 363, 404]),\n",
       " 'insidecity': array([256]),\n",
       " 'kitchen': array([220, 246, 274, 293, 296, 297, 307]),\n",
       " 'livingroom': array([219, 220, 292, 293, 303, 319, 325]),\n",
       " 'mountain': array([256]),\n",
       " 'opencountry': array([256]),\n",
       " 'store': array([220, 223, 226, 235, 239, 268, 277, 279, 293, 294, 301, 304, 308,\n",
       "        311, 326, 328, 329, 330, 382]),\n",
       " 'street': array([256]),\n",
       " 'tallbuilding': array([256])}"
      ]
     },
     "execution_count": 14,
     "metadata": {},
     "output_type": "execute_result"
    }
   ],
   "source": [
    "print('Unique height for each class: ')\n",
    "height"
   ]
  },
  {
   "cell_type": "code",
   "execution_count": 15,
   "metadata": {},
   "outputs": [
    {
     "name": "stdout",
     "output_type": "stream",
     "text": [
      "Unique width for each class: \n"
     ]
    },
    {
     "data": {
      "text/plain": [
       "{'CALsuburb': array([330]),\n",
       " 'PARoffice': array([245, 248, 253, 256, 267, 269, 271, 272, 275, 278, 279, 283, 286,\n",
       "        291, 293, 294, 295, 297, 298, 299, 300, 302, 304, 305, 307, 308,\n",
       "        311, 313, 314, 315, 316, 317, 318, 322, 323, 325, 327, 330, 331,\n",
       "        334, 337, 339, 342, 343, 344, 345, 346, 349, 352, 353, 356, 358,\n",
       "        359, 365, 366, 367, 368, 376, 381, 387, 392]),\n",
       " 'bedroom': array([220, 240, 246, 250, 252, 253, 254, 257, 258, 259, 261, 262, 266,\n",
       "        267, 269, 274, 276, 291, 292, 293, 299, 300, 301, 302, 305, 306,\n",
       "        313, 315, 318, 320, 322, 326, 328, 329, 330, 332, 333, 334, 337,\n",
       "        338, 339, 353, 354]),\n",
       " 'coast': array([256]),\n",
       " 'forest': array([256]),\n",
       " 'highway': array([256]),\n",
       " 'industrial': array([220, 222, 223, 224, 225, 228, 235, 236, 240, 245, 247, 263, 273,\n",
       "        274, 275, 278, 280, 284, 285, 290, 291, 292, 293, 294, 297, 299,\n",
       "        304, 306, 307, 308, 310, 311, 313, 316, 317, 319, 321, 322, 325,\n",
       "        326, 327, 328, 329, 330, 331, 332, 333, 335, 337, 338, 341, 344,\n",
       "        345, 346, 350, 356, 357, 360, 362, 368, 379, 395, 401, 408]),\n",
       " 'insidecity': array([256]),\n",
       " 'kitchen': array([220, 259, 264, 273, 276, 288, 291, 292, 293, 294, 295, 298, 299,\n",
       "        300, 306, 311, 326, 328, 330, 333, 335, 389, 411]),\n",
       " 'livingroom': array([219, 220, 257, 271, 274, 275, 286, 287, 290, 291, 292, 293, 295,\n",
       "        297, 304, 308, 309, 314, 319, 320, 321, 322, 323, 324, 325, 327,\n",
       "        328, 329, 330, 331, 332, 333, 334, 335, 337, 338, 340, 341, 350,\n",
       "        351, 352, 362, 365, 378, 384]),\n",
       " 'mountain': array([256]),\n",
       " 'opencountry': array([256]),\n",
       " 'store': array([220, 221, 224, 230, 236, 241, 248, 250, 255, 257, 261, 269, 276,\n",
       "        277, 280, 283, 285, 289, 291, 292, 293, 294, 296, 297, 298, 299,\n",
       "        300, 301, 304, 310, 311, 313, 314, 324, 327, 328, 329, 330, 331,\n",
       "        332, 333, 339, 347, 366, 382, 385, 395]),\n",
       " 'street': array([256]),\n",
       " 'tallbuilding': array([256])}"
      ]
     },
     "execution_count": 15,
     "metadata": {},
     "output_type": "execute_result"
    }
   ],
   "source": [
    "print('Unique width for each class: ')\n",
    "width"
   ]
  },
  {
   "cell_type": "code",
   "execution_count": 16,
   "metadata": {},
   "outputs": [
    {
     "name": "stdout",
     "output_type": "stream",
     "text": [
      "Unique colorchannel for each class: \n"
     ]
    },
    {
     "data": {
      "text/plain": [
       "{'CALsuburb': array([3]),\n",
       " 'PARoffice': array([3]),\n",
       " 'bedroom': array([3]),\n",
       " 'coast': array([3]),\n",
       " 'forest': array([3]),\n",
       " 'highway': array([3]),\n",
       " 'industrial': array([3]),\n",
       " 'insidecity': array([3]),\n",
       " 'kitchen': array([3]),\n",
       " 'livingroom': array([3]),\n",
       " 'mountain': array([3]),\n",
       " 'opencountry': array([3]),\n",
       " 'store': array([3]),\n",
       " 'street': array([3]),\n",
       " 'tallbuilding': array([3])}"
      ]
     },
     "execution_count": 16,
     "metadata": {},
     "output_type": "execute_result"
    }
   ],
   "source": [
    "print('Unique colorchannel for each class: ')\n",
    "colorchannel"
   ]
  },
  {
   "cell_type": "markdown",
   "metadata": {},
   "source": [
    "## 圖片`pixel_pair`統計結果\n",
    "\n",
    "接下來要決定訓練時使用的`pixel_pair`是多少\n",
    "\n",
    "下表說明：\n",
    "* `counts`：每個種類的數量。\n",
    "* `most_pixel_pair、issue`：如果`issue`為`N`，表示這個種類的所有`pixel_pair`都是同一種，若為`Y`，表示這個種類的`pixel_pair`的長寬不固定，這裏只取出現最多次的來參考。\n",
    "\n",
    "---\n",
    "\n",
    "## 決定Resize大小\n",
    "\n",
    "* 使用訓練圖片大小：因為大部分的圖片使用`256x256`，所以後面訓練時可能考慮使用這個`pixel_pair`。\n",
    "* 使用模型本身訓練參數：例如`VGG16,VGG19,ResNet50,`預設使用`224x224`，`InceptionV3,Xception`預設使用`299x299`。"
   ]
  },
  {
   "cell_type": "code",
   "execution_count": 17,
   "metadata": {},
   "outputs": [],
   "source": [
    "static = pd.DataFrame(data=pipline.classname.value_counts())\n",
    "static = static.rename(columns={'classname':'counts'})\n",
    "static['most_pixel_pair'] = ['256x256', '256x256', '256x256', '256x256', '256x256', '220x220', '220x220', '256x256',\n",
    "                             '256x256', '220x220', '256x256', '220x330', '220x220', '220x?', '220x220']\n",
    "static['issue'] = ['N','N','N','N','N','Y','Y','N','N','Y','N','N','Y','Y','Y']"
   ]
  },
  {
   "cell_type": "code",
   "execution_count": 18,
   "metadata": {},
   "outputs": [
    {
     "data": {
      "text/html": [
       "<div>\n",
       "<style scoped>\n",
       "    .dataframe tbody tr th:only-of-type {\n",
       "        vertical-align: middle;\n",
       "    }\n",
       "\n",
       "    .dataframe tbody tr th {\n",
       "        vertical-align: top;\n",
       "    }\n",
       "\n",
       "    .dataframe thead th {\n",
       "        text-align: right;\n",
       "    }\n",
       "</style>\n",
       "<table border=\"1\" class=\"dataframe\">\n",
       "  <thead>\n",
       "    <tr style=\"text-align: right;\">\n",
       "      <th></th>\n",
       "      <th>counts</th>\n",
       "      <th>most_pixel_pair</th>\n",
       "      <th>issue</th>\n",
       "    </tr>\n",
       "  </thead>\n",
       "  <tbody>\n",
       "    <tr>\n",
       "      <th>opencountry</th>\n",
       "      <td>310</td>\n",
       "      <td>256x256</td>\n",
       "      <td>N</td>\n",
       "    </tr>\n",
       "    <tr>\n",
       "      <th>mountain</th>\n",
       "      <td>274</td>\n",
       "      <td>256x256</td>\n",
       "      <td>N</td>\n",
       "    </tr>\n",
       "    <tr>\n",
       "      <th>coast</th>\n",
       "      <td>260</td>\n",
       "      <td>256x256</td>\n",
       "      <td>N</td>\n",
       "    </tr>\n",
       "    <tr>\n",
       "      <th>tallbuilding</th>\n",
       "      <td>256</td>\n",
       "      <td>256x256</td>\n",
       "      <td>N</td>\n",
       "    </tr>\n",
       "    <tr>\n",
       "      <th>forest</th>\n",
       "      <td>228</td>\n",
       "      <td>256x256</td>\n",
       "      <td>N</td>\n",
       "    </tr>\n",
       "    <tr>\n",
       "      <th>store</th>\n",
       "      <td>215</td>\n",
       "      <td>220x220</td>\n",
       "      <td>Y</td>\n",
       "    </tr>\n",
       "    <tr>\n",
       "      <th>industrial</th>\n",
       "      <td>211</td>\n",
       "      <td>220x220</td>\n",
       "      <td>Y</td>\n",
       "    </tr>\n",
       "    <tr>\n",
       "      <th>insidecity</th>\n",
       "      <td>208</td>\n",
       "      <td>256x256</td>\n",
       "      <td>N</td>\n",
       "    </tr>\n",
       "    <tr>\n",
       "      <th>street</th>\n",
       "      <td>192</td>\n",
       "      <td>256x256</td>\n",
       "      <td>N</td>\n",
       "    </tr>\n",
       "    <tr>\n",
       "      <th>livingroom</th>\n",
       "      <td>189</td>\n",
       "      <td>220x220</td>\n",
       "      <td>Y</td>\n",
       "    </tr>\n",
       "    <tr>\n",
       "      <th>highway</th>\n",
       "      <td>160</td>\n",
       "      <td>256x256</td>\n",
       "      <td>N</td>\n",
       "    </tr>\n",
       "    <tr>\n",
       "      <th>CALsuburb</th>\n",
       "      <td>141</td>\n",
       "      <td>220x330</td>\n",
       "      <td>N</td>\n",
       "    </tr>\n",
       "    <tr>\n",
       "      <th>bedroom</th>\n",
       "      <td>116</td>\n",
       "      <td>220x220</td>\n",
       "      <td>Y</td>\n",
       "    </tr>\n",
       "    <tr>\n",
       "      <th>PARoffice</th>\n",
       "      <td>115</td>\n",
       "      <td>220x?</td>\n",
       "      <td>Y</td>\n",
       "    </tr>\n",
       "    <tr>\n",
       "      <th>kitchen</th>\n",
       "      <td>110</td>\n",
       "      <td>220x220</td>\n",
       "      <td>Y</td>\n",
       "    </tr>\n",
       "  </tbody>\n",
       "</table>\n",
       "</div>"
      ],
      "text/plain": [
       "              counts most_pixel_pair issue\n",
       "opencountry      310         256x256     N\n",
       "mountain         274         256x256     N\n",
       "coast            260         256x256     N\n",
       "tallbuilding     256         256x256     N\n",
       "forest           228         256x256     N\n",
       "store            215         220x220     Y\n",
       "industrial       211         220x220     Y\n",
       "insidecity       208         256x256     N\n",
       "street           192         256x256     N\n",
       "livingroom       189         220x220     Y\n",
       "highway          160         256x256     N\n",
       "CALsuburb        141         220x330     N\n",
       "bedroom          116         220x220     Y\n",
       "PARoffice        115           220x?     Y\n",
       "kitchen          110         220x220     Y"
      ]
     },
     "execution_count": 18,
     "metadata": {},
     "output_type": "execute_result"
    }
   ],
   "source": [
    "static"
   ]
  },
  {
   "cell_type": "markdown",
   "metadata": {},
   "source": [
    "# Transfer learning\n",
    "\n",
    "`Transfer learning`的概念就是使用訓練好的模型來預測，我們會從`keras`的`applications`模塊提取模型參數，並使用這些模型來搭配`full-connected NN`來預測。\n",
    "\n",
    "傳統的機器學習中都是針對特定任務需求進行建模，也就是你的模型參數是從你這個任務的資料所訓練出來的，`model A`的結果只能在他的domain上進行預測，`model B`也只能在他的domain進行預測，這裏的關鍵是你的資料，`model A`與`model B`可能都是一樣的訓練模型，例如說都是`SVM`，可是訓練出來的參數是屬於各自的domain上，就沒辦法互相套用了。這跟我們人類的學習模式是完全不同的，人類的學習模式是從小就開始累積特徵，而傳統的機器學習都是需要才開始訓練。\n",
    "\n",
    "<img src=\"traditional_ml_setup.png\" alt=\"drawing\" height=\"700px\" width=\"700px\"/>\n",
    "\n",
    "可是如果你的兩個domain的性質接近，例如說兩個任務都是針對日常生活物件的影像辨識，一個是辨識貓狗，另一個是辨識車子種類，這兩個任務雖然目的不同，不過都是他們辨識的東西都是日常生活會看見的，那`transfer learning`的想法是說，我有沒有辦法訓練一個模型，這個模型看遍了日常生活中所有的東西，並記住了所有東西的特徵，那當我要同時辨識貓狗以及車子種類時，我只需要用這個已經訓練好的模型來預測就好。\n",
    "\n",
    "<img src=\"transfer_learning_setup.png\" alt=\"drawing\" height=\"700px\" width=\"700px\"/>\n",
    "\n",
    "所以`transfer learning`的前提盡量讓模型看很多資料以及很多種標籤，讓他用這已知的前提來預測，目前`transfer learning`主要解決的問題都是日常生活的影像辨識，因為資料最多種類最豐富。\n",
    "\n",
    "目前在`Keras`中已經有幾個`transfer learning`模型：\n",
    "\n",
    "* `VGG16`\n",
    "* `VGG19`\n",
    "* `ResNet50`\n",
    "* `Inception V3`\n",
    "* `Xception`\n",
    "\n",
    "這幾個模型都是由`ImageNet`這份資料集所訓練而成，這份資料集是目前圖像辨識中規模最大的，約有$1500$萬張圖片，$2.2$萬個類別，每張圖片都是由人工標記的，訓練時沒有直接所有圖片，而是使用其子集，共[$1000$種](https://gist.github.com/yrevar/942d3a0ac09ec9e5eb3a)類別，訓練集約有$120$萬張，驗證集約有$5$萬張，測試集約有$10$萬張。"
   ]
  },
  {
   "cell_type": "code",
   "execution_count": 19,
   "metadata": {},
   "outputs": [],
   "source": [
    "img_width, img_height = 256,256 # 使用訓練圖片最多的`pixel_pair`\n",
    "train_data_dir = 'train/' # 建立連結，預備給後面的`flow_from_directory`使用\n",
    "valid_data_dir = 'validation/'\n",
    "batch_size = 3 # 每次訓練幾筆\n",
    "num_class = 15\n",
    "lr = 1e-4\n",
    "momentum=0.9 # optimizer使用SGD，所以這裏需要設定momentum\n",
    "epoch=30 # 整筆資料訓練幾次"
   ]
  },
  {
   "cell_type": "markdown",
   "metadata": {},
   "source": [
    "因為後面會使用`ImageDataGenerator`搭配`flow_from_directory`來產生訓練資料以及`path`，以下註解的地方會將`train`資料夾中每個類別抽$20\\%$至`validation`資料夾中，`validation`以及裡面的每個種類資料夾需要事先建立好，因為作者使用時已經將`validation`建立完成，所以註解掉。"
   ]
  },
  {
   "cell_type": "code",
   "execution_count": 20,
   "metadata": {},
   "outputs": [],
   "source": [
    "# 從training set中抽20%的圖片放到validation folder的各個種類資料夾\n",
    "# os.chdir('data/examples/may_the_4_be_with_u/where_am_i/')\n",
    "# source_dir = 'train/'\n",
    "# valid_dir = 'validation/'\n",
    "\n",
    "# for i in range(len(img_species)):\n",
    "#     print(img_species[i])\n",
    "#     folder_img = os.listdir('train/' + img_species[i])\n",
    "#     valid_img = np.random.choice(folder_img, int(np.floor(len(folder_img)*0.2)),replace=False)\n",
    "#     for j in range(len(valid_img)):\n",
    "#         shutil.move('train/' + img_species[i] + '/' + valid_img[j], valid_dir + img_species[i])"
   ]
  },
  {
   "cell_type": "markdown",
   "metadata": {},
   "source": [
    "## [ImageDataGenerator](https://zhuanlan.zhihu.com/p/30197320)\n",
    "這個參數會將圖片隨機調整成參數設定的樣子，進而產生心的訓練資料。\n",
    "\n",
    "* `rotation_range`：將圖片隨機選轉$[0,\\theta]$內的角度。\n",
    "* `rescale`：縮小圖片的倍數，通常會使用`1./255`，因為像素範圍是`0~255`。\n",
    "* `shear_range`：讓圖片傾斜的比例，讓所有X座標(或是Y座標)保持不變，對應的Y座標(或是X座標)按比例發生平移。\n",
    "* `zoom_range`：此參數可以讓圖片的長或寬進行縮放，可以輸入一個數值或是`list`，若為數值，則兩軸按同樣比例縮放，若為`list`，則是`[width_zoom_range,height_zoom_range]`表示進行長寬進行不同比例縮放。\n",
    "* `horizontal_flip`：若為`True`，則隨機對圖片進行水平翻轉操作，通常不會進行垂直翻轉，因為圖片若垂直翻轉通常沒有意義。"
   ]
  },
  {
   "cell_type": "code",
   "execution_count": 21,
   "metadata": {},
   "outputs": [
    {
     "name": "stdout",
     "output_type": "stream",
     "text": [
      "Found 2392 images belonging to 15 classes.\n",
      "Found 593 images belonging to 15 classes.\n"
     ]
    }
   ],
   "source": [
    "train_datagen = ImageDataGenerator(rotation_range=30, \n",
    "                                   rescale=1./255,\n",
    "                                   shear_range=0.2,\n",
    "                                   zoom_range=0.2,\n",
    "                                   horizontal_flip=True)\n",
    "train_generator = train_datagen.flow_from_directory(train_data_dir,\n",
    "                                                    target_size=(img_height, img_width),\n",
    "                                                    batch_size=batch_size,\n",
    "                                                    class_mode='categorical')\n",
    "\n",
    "valid_datagen = ImageDataGenerator(rescale=1./255)\n",
    "valid_generator = valid_datagen.flow_from_directory(valid_data_dir,\n",
    "                                                    target_size=(img_height, img_width),\n",
    "                                                    batch_size=batch_size,\n",
    "                                                    class_mode='categorical')"
   ]
  },
  {
   "cell_type": "code",
   "execution_count": 22,
   "metadata": {},
   "outputs": [
    {
     "data": {
      "text/plain": [
       "{'CALsuburb': 0,\n",
       " 'PARoffice': 1,\n",
       " 'bedroom': 2,\n",
       " 'coast': 3,\n",
       " 'forest': 4,\n",
       " 'highway': 5,\n",
       " 'industrial': 6,\n",
       " 'insidecity': 7,\n",
       " 'kitchen': 8,\n",
       " 'livingroom': 9,\n",
       " 'mountain': 10,\n",
       " 'opencountry': 11,\n",
       " 'store': 12,\n",
       " 'street': 13,\n",
       " 'tallbuilding': 14}"
      ]
     },
     "execution_count": 22,
     "metadata": {},
     "output_type": "execute_result"
    }
   ],
   "source": [
    "train_generator.class_indices # 觀察每個類別的labelencoder"
   ]
  },
  {
   "cell_type": "markdown",
   "metadata": {},
   "source": [
    "# 模型參數\n",
    "我們將固定在每個模型後面使用四層全連接層。"
   ]
  },
  {
   "cell_type": "code",
   "execution_count": 23,
   "metadata": {},
   "outputs": [],
   "source": [
    "fc1_hidden = 512\n",
    "fc2_hidden = 256\n",
    "fc3_hidden = 128\n",
    "num_class = 15"
   ]
  },
  {
   "cell_type": "markdown",
   "metadata": {},
   "source": [
    "## VGG16\n",
    "\n",
    "`VGG16`其實就是個比較深的`CNN`而已，`16`的意思是說帶有權重的層，也就是$13$層`convolution`以及$3$層`fully connected layer`。\n",
    "\n",
    "![VGG16](VGG16.png)\n",
    "\n",
    "Take by [url](https://www.safaribooksonline.com/library/view/machine-learning-with/9781786462961/21266fa5-9e3b-4f9e-b3c6-2ca27a8f8c12.xhtml)"
   ]
  },
  {
   "cell_type": "code",
   "execution_count": 21,
   "metadata": {},
   "outputs": [],
   "source": [
    "VGG16_base = applications.VGG16(weights='imagenet', include_top=False)\n",
    "\n",
    "x = VGG16_base.output\n",
    "x = layers.GlobalAveragePooling2D()(x)\n",
    "x = layers.Dense(fc1_hidden,activation='relu')(x)\n",
    "x = layers.Dense(fc2_hidden,activation='relu')(x)\n",
    "x = layers.Dense(fc3_hidden,activation='relu')(x)\n",
    "\n",
    "predictions = layers.Dense(num_class, activation='softmax')(x)\n",
    "\n",
    "VGG16_transfer = models.Model(inputs=VGG16_base.input, outputs=predictions)\n",
    "\n",
    "VGG16_transfer.compile(loss = 'categorical_crossentropy',\n",
    "                       optimizer = optimizers.SGD(lr=lr, momentum=momentum),\n",
    "                       metrics=['accuracy'])"
   ]
  },
  {
   "cell_type": "code",
   "execution_count": 22,
   "metadata": {
    "scrolled": true
   },
   "outputs": [
    {
     "name": "stdout",
     "output_type": "stream",
     "text": [
      "Epoch 1/30\n",
      "798/798 [==============================] - 53s 67ms/step - loss: 1.9717 - acc: 0.3237 - val_loss: 1.4491 - val_acc: 0.4722\n",
      "Epoch 2/30\n",
      "798/798 [==============================] - 44s 55ms/step - loss: 1.2138 - acc: 0.5806 - val_loss: 1.0839 - val_acc: 0.6071\n",
      "Epoch 3/30\n",
      "798/798 [==============================] - 44s 55ms/step - loss: 0.9582 - acc: 0.6633 - val_loss: 0.8010 - val_acc: 0.7049\n",
      "Epoch 4/30\n",
      "798/798 [==============================] - 43s 54ms/step - loss: 0.8317 - acc: 0.7051 - val_loss: 0.8135 - val_acc: 0.7201\n",
      "Epoch 5/30\n",
      "798/798 [==============================] - 44s 55ms/step - loss: 0.7130 - acc: 0.7439 - val_loss: 0.5814 - val_acc: 0.7690\n",
      "Epoch 6/30\n",
      "798/798 [==============================] - 44s 55ms/step - loss: 0.6115 - acc: 0.7882 - val_loss: 0.6219 - val_acc: 0.7690\n",
      "Epoch 7/30\n",
      "798/798 [==============================] - 45s 56ms/step - loss: 0.5892 - acc: 0.7886 - val_loss: 0.5223 - val_acc: 0.8044\n",
      "Epoch 8/30\n",
      "798/798 [==============================] - 50s 62ms/step - loss: 0.5263 - acc: 0.8083 - val_loss: 0.4629 - val_acc: 0.8347\n",
      "Epoch 9/30\n",
      "798/798 [==============================] - 44s 55ms/step - loss: 0.4434 - acc: 0.8413 - val_loss: 0.4635 - val_acc: 0.8314\n",
      "Epoch 10/30\n",
      "798/798 [==============================] - 43s 54ms/step - loss: 0.4078 - acc: 0.8630 - val_loss: 0.4476 - val_acc: 0.8449\n",
      "Epoch 11/30\n",
      "798/798 [==============================] - 44s 55ms/step - loss: 0.3948 - acc: 0.8596 - val_loss: 0.4692 - val_acc: 0.8280\n",
      "Epoch 12/30\n",
      "798/798 [==============================] - 43s 54ms/step - loss: 0.3666 - acc: 0.8734 - val_loss: 0.5225 - val_acc: 0.8145\n",
      "Epoch 13/30\n",
      "798/798 [==============================] - 43s 54ms/step - loss: 0.3263 - acc: 0.8885 - val_loss: 0.3458 - val_acc: 0.8904\n",
      "Epoch 14/30\n",
      "798/798 [==============================] - 43s 54ms/step - loss: 0.3232 - acc: 0.8868 - val_loss: 0.4733 - val_acc: 0.8263\n",
      "Epoch 15/30\n",
      "798/798 [==============================] - 66s 82ms/step - loss: 0.3083 - acc: 0.8914 - val_loss: 0.3486 - val_acc: 0.8718\n",
      "Epoch 16/30\n",
      "798/798 [==============================] - 81s 102ms/step - loss: 0.2548 - acc: 0.9089 - val_loss: 0.3756 - val_acc: 0.8600\n",
      "Epoch 17/30\n",
      "798/798 [==============================] - 80s 101ms/step - loss: 0.2390 - acc: 0.9085 - val_loss: 0.3915 - val_acc: 0.8786\n",
      "Epoch 18/30\n",
      "798/798 [==============================] - 84s 105ms/step - loss: 0.2304 - acc: 0.9219 - val_loss: 0.4373 - val_acc: 0.8482\n",
      "Epoch 19/30\n",
      "798/798 [==============================] - 80s 101ms/step - loss: 0.2093 - acc: 0.9307 - val_loss: 0.3425 - val_acc: 0.8904\n",
      "Epoch 20/30\n",
      "798/798 [==============================] - 77s 96ms/step - loss: 0.2051 - acc: 0.9315 - val_loss: 0.3952 - val_acc: 0.8583\n",
      "Epoch 21/30\n",
      "798/798 [==============================] - 85s 107ms/step - loss: 0.1766 - acc: 0.9386 - val_loss: 0.4601 - val_acc: 0.8550\n",
      "Epoch 22/30\n",
      "798/798 [==============================] - 78s 98ms/step - loss: 0.1714 - acc: 0.9432 - val_loss: 0.4562 - val_acc: 0.8449\n",
      "Epoch 23/30\n",
      "798/798 [==============================] - 109s 137ms/step - loss: 0.1836 - acc: 0.9424 - val_loss: 0.6363 - val_acc: 0.8162\n",
      "Epoch 24/30\n",
      "798/798 [==============================] - 91s 114ms/step - loss: 0.1868 - acc: 0.9340 - val_loss: 0.3661 - val_acc: 0.8836\n",
      "Epoch 25/30\n",
      "798/798 [==============================] - 87s 109ms/step - loss: 0.1229 - acc: 0.9582 - val_loss: 0.5000 - val_acc: 0.8567\n",
      "Epoch 26/30\n",
      "798/798 [==============================] - 85s 107ms/step - loss: 0.1109 - acc: 0.9632 - val_loss: 0.3759 - val_acc: 0.8769\n",
      "Epoch 27/30\n",
      "798/798 [==============================] - 90s 113ms/step - loss: 0.1424 - acc: 0.9507 - val_loss: 0.3021 - val_acc: 0.8921\n",
      "Epoch 28/30\n",
      "798/798 [==============================] - 89s 111ms/step - loss: 0.1111 - acc: 0.9632 - val_loss: 0.4173 - val_acc: 0.8769\n",
      "Epoch 29/30\n",
      "798/798 [==============================] - 90s 113ms/step - loss: 0.1060 - acc: 0.9591 - val_loss: 0.4555 - val_acc: 0.8550\n",
      "Epoch 30/30\n",
      "798/798 [==============================] - 89s 112ms/step - loss: 0.1151 - acc: 0.9645 - val_loss: 0.3173 - val_acc: 0.8988\n"
     ]
    }
   ],
   "source": [
    "with tf.device('/device:GPU:0'):\n",
    "    history_VGG16 = VGG16_transfer.fit_generator(train_generator,epochs=epoch,shuffle=True,verbose=1,validation_data=valid_generator)"
   ]
  },
  {
   "cell_type": "markdown",
   "metadata": {},
   "source": [
    "## VGG19\n",
    "\n",
    "`VGG19`只是在`VGG16`中多加了三層`convolution layer`，分別在$56\\times56\\times256$、$28\\times28\\times512$、$14\\times14\\times512$各增加一層同樣大小的`convolution layer`。"
   ]
  },
  {
   "cell_type": "code",
   "execution_count": null,
   "metadata": {},
   "outputs": [],
   "source": [
    "VGG19_base = applications.VGG19(weights='imagenet', include_top=False)\n",
    "\n",
    "x = VGG19_base.output\n",
    "x = layers.GlobalAveragePooling2D()(x)\n",
    "x = layers.Dense(fc1_hidden,activation='relu')(x)\n",
    "x = layers.Dense(fc2_hidden,activation='relu')(x)\n",
    "x = layers.Dense(fc3_hidden,activation='relu')(x)\n",
    "\n",
    "predictions = layers.Dense(num_class, activation='softmax')(x)\n",
    "\n",
    "VGG19_transfer = models.Model(inputs=VGG19_base.input, outputs=predictions)\n",
    "\n",
    "VGG19_transfer.compile(loss = 'categorical_crossentropy',\n",
    "                       optimizer = optimizers.SGD(lr=lr, momentum=momentum),\n",
    "                       metrics=['accuracy'])"
   ]
  },
  {
   "cell_type": "code",
   "execution_count": 24,
   "metadata": {
    "scrolled": true
   },
   "outputs": [
    {
     "name": "stdout",
     "output_type": "stream",
     "text": [
      "Epoch 1/30\n",
      "798/798 [==============================] - 96s 121ms/step - loss: 2.0463 - acc: 0.3229 - val_loss: 1.5189 - val_acc: 0.4368\n",
      "Epoch 2/30\n",
      "798/798 [==============================] - 89s 112ms/step - loss: 1.2320 - acc: 0.5677 - val_loss: 1.0238 - val_acc: 0.6459\n",
      "Epoch 3/30\n",
      "798/798 [==============================] - 90s 113ms/step - loss: 0.9310 - acc: 0.6604 - val_loss: 0.7176 - val_acc: 0.7504\n",
      "Epoch 4/30\n",
      "798/798 [==============================] - 90s 112ms/step - loss: 0.7744 - acc: 0.7285 - val_loss: 0.7052 - val_acc: 0.7319\n",
      "Epoch 5/30\n",
      "798/798 [==============================] - 89s 111ms/step - loss: 0.6696 - acc: 0.7586 - val_loss: 0.5308 - val_acc: 0.7825\n",
      "Epoch 6/30\n",
      "798/798 [==============================] - 89s 111ms/step - loss: 0.5783 - acc: 0.7882 - val_loss: 0.6827 - val_acc: 0.7740\n",
      "Epoch 7/30\n",
      "798/798 [==============================] - 91s 114ms/step - loss: 0.5513 - acc: 0.8108 - val_loss: 0.4678 - val_acc: 0.8280\n",
      "Epoch 8/30\n",
      "798/798 [==============================] - 91s 113ms/step - loss: 0.4957 - acc: 0.8179 - val_loss: 0.4838 - val_acc: 0.8314\n",
      "Epoch 9/30\n",
      "798/798 [==============================] - 92s 115ms/step - loss: 0.4158 - acc: 0.8530 - val_loss: 0.4673 - val_acc: 0.8246\n",
      "Epoch 10/30\n",
      "798/798 [==============================] - 90s 113ms/step - loss: 0.3920 - acc: 0.8672 - val_loss: 0.4950 - val_acc: 0.8415\n",
      "Epoch 11/30\n",
      "798/798 [==============================] - 92s 115ms/step - loss: 0.3317 - acc: 0.8826 - val_loss: 0.5945 - val_acc: 0.7841\n",
      "Epoch 12/30\n",
      "798/798 [==============================] - 89s 112ms/step - loss: 0.3265 - acc: 0.8926 - val_loss: 0.4383 - val_acc: 0.8516\n",
      "Epoch 13/30\n",
      "798/798 [==============================] - 93s 116ms/step - loss: 0.3107 - acc: 0.8997 - val_loss: 0.4410 - val_acc: 0.8381\n",
      "Epoch 14/30\n",
      "798/798 [==============================] - 90s 112ms/step - loss: 0.2699 - acc: 0.9085 - val_loss: 0.4583 - val_acc: 0.8364\n",
      "Epoch 15/30\n",
      "798/798 [==============================] - 92s 115ms/step - loss: 0.2569 - acc: 0.9123 - val_loss: 0.4641 - val_acc: 0.8364\n",
      "Epoch 16/30\n",
      "798/798 [==============================] - 92s 115ms/step - loss: 0.2279 - acc: 0.9231 - val_loss: 0.4376 - val_acc: 0.8432\n",
      "Epoch 17/30\n",
      "798/798 [==============================] - 93s 116ms/step - loss: 0.2396 - acc: 0.9177 - val_loss: 0.3220 - val_acc: 0.8921\n",
      "Epoch 18/30\n",
      "798/798 [==============================] - 90s 113ms/step - loss: 0.1946 - acc: 0.9315 - val_loss: 0.5826 - val_acc: 0.8229\n",
      "Epoch 19/30\n",
      "798/798 [==============================] - 93s 117ms/step - loss: 0.1723 - acc: 0.9365 - val_loss: 0.4803 - val_acc: 0.8567\n",
      "Epoch 20/30\n",
      "798/798 [==============================] - 90s 113ms/step - loss: 0.1693 - acc: 0.9415 - val_loss: 0.6148 - val_acc: 0.8179\n",
      "Epoch 21/30\n",
      "798/798 [==============================] - 90s 113ms/step - loss: 0.1745 - acc: 0.9470 - val_loss: 0.4269 - val_acc: 0.8820\n",
      "Epoch 22/30\n",
      "798/798 [==============================] - 94s 117ms/step - loss: 0.1579 - acc: 0.9444 - val_loss: 0.3177 - val_acc: 0.8769\n",
      "Epoch 23/30\n",
      "798/798 [==============================] - 90s 113ms/step - loss: 0.1448 - acc: 0.9495 - val_loss: 0.3710 - val_acc: 0.8752\n",
      "Epoch 24/30\n",
      "798/798 [==============================] - 91s 114ms/step - loss: 0.1158 - acc: 0.9616 - val_loss: 0.4251 - val_acc: 0.8786\n",
      "Epoch 25/30\n",
      "798/798 [==============================] - 84s 105ms/step - loss: 0.1043 - acc: 0.9653 - val_loss: 0.3405 - val_acc: 0.8988\n",
      "Epoch 26/30\n",
      "798/798 [==============================] - 64s 80ms/step - loss: 0.0888 - acc: 0.9749 - val_loss: 0.3019 - val_acc: 0.9005\n",
      "Epoch 27/30\n",
      "798/798 [==============================] - 66s 82ms/step - loss: 0.1093 - acc: 0.9657 - val_loss: 0.4635 - val_acc: 0.8685\n",
      "Epoch 28/30\n",
      "798/798 [==============================] - 87s 109ms/step - loss: 0.0884 - acc: 0.9745 - val_loss: 0.3900 - val_acc: 0.8752\n",
      "Epoch 29/30\n",
      "798/798 [==============================] - 82s 103ms/step - loss: 0.1096 - acc: 0.9657 - val_loss: 0.3419 - val_acc: 0.8954\n",
      "Epoch 30/30\n",
      "798/798 [==============================] - 61s 77ms/step - loss: 0.0962 - acc: 0.9657 - val_loss: 0.4455 - val_acc: 0.8718\n"
     ]
    }
   ],
   "source": [
    "with tf.device('/device:GPU:0'):\n",
    "    history_VGG19 = VGG19_transfer.fit_generator(train_generator,epochs=epoch,shuffle=True,verbose=1,validation_data=valid_generator)"
   ]
  },
  {
   "cell_type": "markdown",
   "metadata": {},
   "source": [
    "## ResNet50\n",
    "\n",
    "`ResNet50`的出現是為了梯度消失跟梯度爆炸，因為隨著`Convolution layer`越來越深，在`backpropagation`的時候的偏微分值常常會忽大忽小，導致參數更新出現問題。"
   ]
  },
  {
   "cell_type": "code",
   "execution_count": 45,
   "metadata": {},
   "outputs": [],
   "source": [
    "ResNet50_base = applications.ResNet50(weights='imagenet', include_top=False)\n",
    "\n",
    "x = ResNet50_base.output\n",
    "x = layers.GlobalAveragePooling2D()(x)\n",
    "x = layers.Dense(fc1_hidden,activation='relu')(x)\n",
    "x = layers.Dense(fc2_hidden,activation='relu')(x)\n",
    "x = layers.Dense(fc3_hidden,activation='relu')(x)\n",
    "\n",
    "predictions = layers.Dense(num_class, activation='softmax')(x)\n",
    "\n",
    "ResNet50_transfer = models.Model(inputs=ResNet50_base.input, outputs=predictions)\n",
    "\n",
    "ResNet50_transfer.compile(loss = 'categorical_crossentropy',\n",
    "                          optimizer = optimizers.SGD(lr=lr, momentum=momentum),\n",
    "                          metrics=['accuracy'])"
   ]
  },
  {
   "cell_type": "code",
   "execution_count": 46,
   "metadata": {
    "scrolled": true
   },
   "outputs": [
    {
     "name": "stdout",
     "output_type": "stream",
     "text": [
      "Epoch 1/30\n",
      "798/798 [==============================] - 212s 266ms/step - loss: 2.2216 - acc: 0.3141 - val_loss: 1.3567 - val_acc: 0.6223\n",
      "Epoch 2/30\n",
      "798/798 [==============================] - 197s 247ms/step - loss: 1.3086 - acc: 0.6090 - val_loss: 0.6311 - val_acc: 0.8145\n",
      "Epoch 3/30\n",
      "798/798 [==============================] - 199s 249ms/step - loss: 0.8701 - acc: 0.7318 - val_loss: 0.5106 - val_acc: 0.8516\n",
      "Epoch 4/30\n",
      "798/798 [==============================] - 200s 251ms/step - loss: 0.6519 - acc: 0.7886 - val_loss: 0.4329 - val_acc: 0.8331\n",
      "Epoch 5/30\n",
      "798/798 [==============================] - 201s 252ms/step - loss: 0.5665 - acc: 0.8108 - val_loss: 0.3914 - val_acc: 0.8735\n",
      "Epoch 6/30\n",
      "798/798 [==============================] - 198s 248ms/step - loss: 0.4558 - acc: 0.8505 - val_loss: 0.3352 - val_acc: 0.8870\n",
      "Epoch 7/30\n",
      "798/798 [==============================] - 200s 250ms/step - loss: 0.3899 - acc: 0.8647 - val_loss: 0.3137 - val_acc: 0.9022\n",
      "Epoch 8/30\n",
      "798/798 [==============================] - 199s 250ms/step - loss: 0.3721 - acc: 0.8801 - val_loss: 0.3091 - val_acc: 0.9005\n",
      "Epoch 9/30\n",
      "798/798 [==============================] - 197s 246ms/step - loss: 0.2964 - acc: 0.9114 - val_loss: 0.4510 - val_acc: 0.8820\n",
      "Epoch 10/30\n",
      "798/798 [==============================] - 201s 251ms/step - loss: 0.2705 - acc: 0.9148 - val_loss: 0.3290 - val_acc: 0.9106\n",
      "Epoch 11/30\n",
      "798/798 [==============================] - 200s 250ms/step - loss: 0.2579 - acc: 0.9131 - val_loss: 0.3178 - val_acc: 0.8988\n",
      "Epoch 12/30\n",
      "798/798 [==============================] - 200s 250ms/step - loss: 0.2095 - acc: 0.9307 - val_loss: 0.2638 - val_acc: 0.9106\n",
      "Epoch 13/30\n",
      "798/798 [==============================] - 200s 251ms/step - loss: 0.2075 - acc: 0.9282 - val_loss: 0.3082 - val_acc: 0.9089\n",
      "Epoch 14/30\n",
      "798/798 [==============================] - 198s 249ms/step - loss: 0.1793 - acc: 0.9495 - val_loss: 0.3207 - val_acc: 0.8954\n",
      "Epoch 15/30\n",
      "798/798 [==============================] - 200s 251ms/step - loss: 0.1553 - acc: 0.9507 - val_loss: 0.3041 - val_acc: 0.9140\n",
      "Epoch 16/30\n",
      "798/798 [==============================] - 89s 111ms/step - loss: 0.1613 - acc: 0.9495 - val_loss: 0.3532 - val_acc: 0.9039\n",
      "Epoch 17/30\n",
      "798/798 [==============================] - 64s 80ms/step - loss: 0.1476 - acc: 0.9507 - val_loss: 0.3391 - val_acc: 0.9056\n",
      "Epoch 18/30\n",
      "798/798 [==============================] - 64s 80ms/step - loss: 0.1104 - acc: 0.9699 - val_loss: 0.3774 - val_acc: 0.9089\n",
      "Epoch 19/30\n",
      "798/798 [==============================] - 64s 80ms/step - loss: 0.1034 - acc: 0.9666 - val_loss: 0.3058 - val_acc: 0.9140\n",
      "Epoch 20/30\n",
      "798/798 [==============================] - 64s 80ms/step - loss: 0.0955 - acc: 0.9737 - val_loss: 0.4091 - val_acc: 0.8836\n",
      "Epoch 21/30\n",
      "798/798 [==============================] - 64s 80ms/step - loss: 0.0936 - acc: 0.9703 - val_loss: 0.3775 - val_acc: 0.9039\n",
      "Epoch 22/30\n",
      "798/798 [==============================] - 64s 80ms/step - loss: 0.0893 - acc: 0.9666 - val_loss: 0.4307 - val_acc: 0.8938\n",
      "Epoch 23/30\n",
      "798/798 [==============================] - 64s 80ms/step - loss: 0.0909 - acc: 0.9720 - val_loss: 0.3330 - val_acc: 0.9073\n",
      "Epoch 24/30\n",
      "798/798 [==============================] - 64s 80ms/step - loss: 0.0691 - acc: 0.9787 - val_loss: 0.4034 - val_acc: 0.9022\n",
      "Epoch 25/30\n",
      "798/798 [==============================] - 64s 80ms/step - loss: 0.0807 - acc: 0.9741 - val_loss: 0.3750 - val_acc: 0.9022\n",
      "Epoch 26/30\n",
      "798/798 [==============================] - 64s 80ms/step - loss: 0.0665 - acc: 0.9791 - val_loss: 0.2909 - val_acc: 0.9089\n",
      "Epoch 27/30\n",
      "798/798 [==============================] - 64s 80ms/step - loss: 0.0659 - acc: 0.9783 - val_loss: 0.3366 - val_acc: 0.9073\n",
      "Epoch 28/30\n",
      "798/798 [==============================] - 64s 80ms/step - loss: 0.0625 - acc: 0.9791 - val_loss: 0.3104 - val_acc: 0.8971\n",
      "Epoch 29/30\n",
      "798/798 [==============================] - 64s 80ms/step - loss: 0.0627 - acc: 0.9820 - val_loss: 0.3119 - val_acc: 0.9073\n",
      "Epoch 30/30\n",
      "798/798 [==============================] - 64s 80ms/step - loss: 0.0552 - acc: 0.9825 - val_loss: 0.3055 - val_acc: 0.9056\n"
     ]
    }
   ],
   "source": [
    "with tf.device('/device:GPU:0'):\n",
    "    history_ResNet50 = ResNet50_transfer.fit_generator(train_generator,epochs=epoch,shuffle=True,verbose=1,validation_data=valid_generator)"
   ]
  },
  {
   "cell_type": "markdown",
   "metadata": {},
   "source": [
    "## InceptionV3\n",
    "\n",
    "一般`CNN`都是指定一個固定大小的`convolution`，例如說指定一個`filter size=3x3`來卷積，每次得到的值就只考慮了這個`3x3`範圍內的特徵，那`Inception`的想法是說，能不能同時採取不同大小的`filter size`來獲得圖片的特徵，接著再`stack`起來，那我這層`layer`的輸出就包含了圖片中各式各樣的特徵。\n",
    "\n",
    "![Inception](Inception.png)"
   ]
  },
  {
   "cell_type": "code",
   "execution_count": 29,
   "metadata": {},
   "outputs": [],
   "source": [
    "InceptionV3_base = applications.InceptionV3(weights='imagenet', include_top=False)\n",
    "\n",
    "x = InceptionV3_base.output\n",
    "x = layers.GlobalAveragePooling2D()(x)\n",
    "x = layers.Dense(fc1_hidden,activation='relu')(x)\n",
    "x = layers.Dense(fc2_hidden,activation='relu')(x)\n",
    "x = layers.Dense(fc3_hidden,activation='relu')(x)\n",
    "\n",
    "predictions = layers.Dense(num_class, activation='softmax')(x)\n",
    "\n",
    "InceptionV3_transfer = models.Model(inputs=InceptionV3_base.input, outputs=predictions)\n",
    "\n",
    "InceptionV3_transfer.compile(loss = 'categorical_crossentropy',\n",
    "                             optimizer = optimizers.SGD(lr=lr, momentum=momentum),\n",
    "                             metrics=['accuracy'])"
   ]
  },
  {
   "cell_type": "code",
   "execution_count": 30,
   "metadata": {
    "scrolled": true
   },
   "outputs": [
    {
     "name": "stdout",
     "output_type": "stream",
     "text": [
      "Epoch 1/30\n",
      "798/798 [==============================] - 97s 122ms/step - loss: 2.5225 - acc: 0.2080 - val_loss: 2.3001 - val_acc: 0.3204\n",
      "Epoch 2/30\n",
      "798/798 [==============================] - 82s 103ms/step - loss: 2.1005 - acc: 0.3308 - val_loss: 1.7880 - val_acc: 0.5346\n",
      "Epoch 3/30\n",
      "798/798 [==============================] - 82s 102ms/step - loss: 1.7115 - acc: 0.4595 - val_loss: 1.2352 - val_acc: 0.6526\n",
      "Epoch 4/30\n",
      "798/798 [==============================] - 82s 103ms/step - loss: 1.3843 - acc: 0.5710 - val_loss: 1.0056 - val_acc: 0.6965\n",
      "Epoch 5/30\n",
      "798/798 [==============================] - 82s 103ms/step - loss: 1.1542 - acc: 0.6395 - val_loss: 0.6799 - val_acc: 0.7774\n",
      "Epoch 6/30\n",
      "798/798 [==============================] - 82s 102ms/step - loss: 1.0498 - acc: 0.6738 - val_loss: 0.6157 - val_acc: 0.7976\n",
      "Epoch 7/30\n",
      "798/798 [==============================] - 82s 103ms/step - loss: 0.9003 - acc: 0.7264 - val_loss: 0.5143 - val_acc: 0.8415\n",
      "Epoch 8/30\n",
      "798/798 [==============================] - 82s 102ms/step - loss: 0.7948 - acc: 0.7611 - val_loss: 0.4654 - val_acc: 0.8533\n",
      "Epoch 9/30\n",
      "798/798 [==============================] - 82s 102ms/step - loss: 0.7921 - acc: 0.7611 - val_loss: 0.4477 - val_acc: 0.8600\n",
      "Epoch 10/30\n",
      "798/798 [==============================] - 82s 103ms/step - loss: 0.7294 - acc: 0.7811 - val_loss: 0.4853 - val_acc: 0.8432\n",
      "Epoch 11/30\n",
      "798/798 [==============================] - 82s 102ms/step - loss: 0.6208 - acc: 0.8104 - val_loss: 0.4353 - val_acc: 0.8617\n",
      "Epoch 12/30\n",
      "798/798 [==============================] - 82s 103ms/step - loss: 0.6309 - acc: 0.8049 - val_loss: 0.4462 - val_acc: 0.8600\n",
      "Epoch 13/30\n",
      "798/798 [==============================] - 82s 102ms/step - loss: 0.5386 - acc: 0.8300 - val_loss: 0.3760 - val_acc: 0.8820\n",
      "Epoch 14/30\n",
      "798/798 [==============================] - 82s 103ms/step - loss: 0.5484 - acc: 0.8321 - val_loss: 0.3526 - val_acc: 0.8786\n",
      "Epoch 15/30\n",
      "798/798 [==============================] - 82s 103ms/step - loss: 0.5567 - acc: 0.8363 - val_loss: 0.4032 - val_acc: 0.8803\n",
      "Epoch 16/30\n",
      "798/798 [==============================] - 82s 103ms/step - loss: 0.4666 - acc: 0.8622 - val_loss: 0.4465 - val_acc: 0.8600\n",
      "Epoch 17/30\n",
      "798/798 [==============================] - 82s 103ms/step - loss: 0.4331 - acc: 0.8772 - val_loss: 0.3526 - val_acc: 0.8938\n",
      "Epoch 18/30\n",
      "798/798 [==============================] - 82s 103ms/step - loss: 0.4662 - acc: 0.8617 - val_loss: 0.3371 - val_acc: 0.8904\n",
      "Epoch 19/30\n",
      "798/798 [==============================] - 82s 103ms/step - loss: 0.4270 - acc: 0.8780 - val_loss: 0.4105 - val_acc: 0.8887\n",
      "Epoch 20/30\n",
      "798/798 [==============================] - 82s 103ms/step - loss: 0.3938 - acc: 0.8868 - val_loss: 0.4079 - val_acc: 0.8718\n",
      "Epoch 21/30\n",
      "798/798 [==============================] - 82s 103ms/step - loss: 0.3792 - acc: 0.8789 - val_loss: 0.3958 - val_acc: 0.8887\n",
      "Epoch 22/30\n",
      "798/798 [==============================] - 82s 103ms/step - loss: 0.3978 - acc: 0.8885 - val_loss: 0.3824 - val_acc: 0.8904\n",
      "Epoch 23/30\n",
      "798/798 [==============================] - 82s 103ms/step - loss: 0.3672 - acc: 0.8926 - val_loss: 0.3549 - val_acc: 0.8971\n",
      "Epoch 24/30\n",
      "798/798 [==============================] - 82s 103ms/step - loss: 0.3518 - acc: 0.8989 - val_loss: 0.3199 - val_acc: 0.9022\n",
      "Epoch 25/30\n",
      "798/798 [==============================] - 82s 103ms/step - loss: 0.3352 - acc: 0.9010 - val_loss: 0.3960 - val_acc: 0.8836\n",
      "Epoch 26/30\n",
      "798/798 [==============================] - 82s 103ms/step - loss: 0.3159 - acc: 0.9056 - val_loss: 0.3580 - val_acc: 0.8921\n",
      "Epoch 27/30\n",
      "798/798 [==============================] - 82s 103ms/step - loss: 0.3066 - acc: 0.9052 - val_loss: 0.4277 - val_acc: 0.8803\n",
      "Epoch 28/30\n",
      "798/798 [==============================] - 82s 102ms/step - loss: 0.2777 - acc: 0.9114 - val_loss: 0.3871 - val_acc: 0.8786\n",
      "Epoch 29/30\n",
      "798/798 [==============================] - 82s 103ms/step - loss: 0.2799 - acc: 0.9156 - val_loss: 0.4131 - val_acc: 0.8836\n",
      "Epoch 30/30\n",
      "798/798 [==============================] - 82s 103ms/step - loss: 0.2905 - acc: 0.9048 - val_loss: 0.4156 - val_acc: 0.8954\n"
     ]
    }
   ],
   "source": [
    "with tf.device('/device:GPU:0'):\n",
    "    history_InceptionV3 = InceptionV3_transfer.fit_generator(train_generator,epochs=epoch,shuffle=True,verbose=1,validation_data=valid_generator)"
   ]
  },
  {
   "cell_type": "markdown",
   "metadata": {},
   "source": [
    "## Xception"
   ]
  },
  {
   "cell_type": "code",
   "execution_count": 34,
   "metadata": {},
   "outputs": [],
   "source": [
    "Xception_base = applications.Xception(weights='imagenet', include_top=False)\n",
    "\n",
    "x = Xception_base.output\n",
    "x = layers.GlobalAveragePooling2D()(x)\n",
    "x = layers.Dense(fc1_hidden,activation='relu')(x)\n",
    "x = layers.Dense(fc2_hidden,activation='relu')(x)\n",
    "x = layers.Dense(fc3_hidden,activation='relu')(x)\n",
    "\n",
    "predictions = layers.Dense(num_class, activation='softmax')(x)\n",
    "\n",
    "Xception_transfer = models.Model(inputs=Xception_base.input, outputs=predictions)\n",
    "\n",
    "Xception_transfer.compile(loss = 'categorical_crossentropy',\n",
    "                           optimizer = optimizers.SGD(lr=lr, momentum=momentum),\n",
    "                           metrics=['accuracy'])"
   ]
  },
  {
   "cell_type": "code",
   "execution_count": 35,
   "metadata": {
    "scrolled": true
   },
   "outputs": [
    {
     "name": "stdout",
     "output_type": "stream",
     "text": [
      "Epoch 1/30\n",
      "798/798 [==============================] - 236s 295ms/step - loss: 2.6601 - acc: 0.1044 - val_loss: 2.6052 - val_acc: 0.1096\n",
      "Epoch 2/30\n",
      "798/798 [==============================] - 225s 282ms/step - loss: 2.5548 - acc: 0.1140 - val_loss: 2.4478 - val_acc: 0.1147\n",
      "Epoch 3/30\n",
      "798/798 [==============================] - 224s 281ms/step - loss: 2.4882 - acc: 0.1399 - val_loss: 2.3725 - val_acc: 0.1973\n",
      "Epoch 4/30\n",
      "798/798 [==============================] - 227s 285ms/step - loss: 2.4133 - acc: 0.2168 - val_loss: 2.3009 - val_acc: 0.2715\n",
      "Epoch 5/30\n",
      "798/798 [==============================] - 224s 281ms/step - loss: 2.3473 - acc: 0.2682 - val_loss: 2.1600 - val_acc: 0.3676\n",
      "Epoch 6/30\n",
      "798/798 [==============================] - 224s 281ms/step - loss: 2.1925 - acc: 0.3333 - val_loss: 1.9426 - val_acc: 0.4857\n",
      "Epoch 7/30\n",
      "798/798 [==============================] - 228s 285ms/step - loss: 1.9898 - acc: 0.4144 - val_loss: 1.6254 - val_acc: 0.6105\n",
      "Epoch 8/30\n",
      "798/798 [==============================] - 225s 282ms/step - loss: 1.7192 - acc: 0.5230 - val_loss: 1.3031 - val_acc: 0.6745\n",
      "Epoch 9/30\n",
      "798/798 [==============================] - 226s 283ms/step - loss: 1.4548 - acc: 0.5752 - val_loss: 1.0254 - val_acc: 0.7285\n",
      "Epoch 10/30\n",
      "798/798 [==============================] - 226s 283ms/step - loss: 1.2032 - acc: 0.6387 - val_loss: 0.7610 - val_acc: 0.7858\n",
      "Epoch 11/30\n",
      "798/798 [==============================] - 225s 282ms/step - loss: 1.0592 - acc: 0.6713 - val_loss: 0.6372 - val_acc: 0.8027\n",
      "Epoch 12/30\n",
      "798/798 [==============================] - 226s 283ms/step - loss: 0.9584 - acc: 0.7068 - val_loss: 0.5542 - val_acc: 0.8229\n",
      "Epoch 13/30\n",
      "798/798 [==============================] - 228s 286ms/step - loss: 0.8673 - acc: 0.7469 - val_loss: 0.4771 - val_acc: 0.8685\n",
      "Epoch 14/30\n",
      "798/798 [==============================] - 225s 283ms/step - loss: 0.8167 - acc: 0.7519 - val_loss: 0.4728 - val_acc: 0.8550\n",
      "Epoch 15/30\n",
      "798/798 [==============================] - 223s 280ms/step - loss: 0.7413 - acc: 0.7744 - val_loss: 0.4144 - val_acc: 0.8702\n",
      "Epoch 16/30\n",
      "798/798 [==============================] - 226s 283ms/step - loss: 0.6799 - acc: 0.7937 - val_loss: 0.3945 - val_acc: 0.8668\n",
      "Epoch 17/30\n",
      "798/798 [==============================] - 227s 284ms/step - loss: 0.6327 - acc: 0.8070 - val_loss: 0.3874 - val_acc: 0.8752\n",
      "Epoch 18/30\n",
      "798/798 [==============================] - 227s 284ms/step - loss: 0.5887 - acc: 0.8120 - val_loss: 0.3781 - val_acc: 0.8735\n",
      "Epoch 19/30\n",
      "798/798 [==============================] - 225s 282ms/step - loss: 0.5614 - acc: 0.8271 - val_loss: 0.2955 - val_acc: 0.8887\n",
      "Epoch 20/30\n",
      "798/798 [==============================] - 225s 282ms/step - loss: 0.5453 - acc: 0.8354 - val_loss: 0.3191 - val_acc: 0.8853\n",
      "Epoch 21/30\n",
      "798/798 [==============================] - 225s 283ms/step - loss: 0.5065 - acc: 0.8471 - val_loss: 0.3269 - val_acc: 0.9073\n",
      "Epoch 22/30\n",
      "798/798 [==============================] - 223s 280ms/step - loss: 0.4911 - acc: 0.8513 - val_loss: 0.3080 - val_acc: 0.8988\n",
      "Epoch 23/30\n",
      "798/798 [==============================] - 223s 280ms/step - loss: 0.4522 - acc: 0.8592 - val_loss: 0.2577 - val_acc: 0.9191\n",
      "Epoch 24/30\n",
      "798/798 [==============================] - 227s 285ms/step - loss: 0.4011 - acc: 0.8713 - val_loss: 0.2812 - val_acc: 0.9073\n",
      "Epoch 25/30\n",
      "798/798 [==============================] - 224s 281ms/step - loss: 0.3817 - acc: 0.8851 - val_loss: 0.2704 - val_acc: 0.9174\n",
      "Epoch 26/30\n",
      "798/798 [==============================] - 224s 281ms/step - loss: 0.3740 - acc: 0.8851 - val_loss: 0.2460 - val_acc: 0.9157\n",
      "Epoch 27/30\n",
      "798/798 [==============================] - 223s 279ms/step - loss: 0.3257 - acc: 0.8964 - val_loss: 0.2576 - val_acc: 0.9089\n",
      "Epoch 28/30\n",
      "798/798 [==============================] - 224s 280ms/step - loss: 0.3235 - acc: 0.9035 - val_loss: 0.2701 - val_acc: 0.9106\n",
      "Epoch 29/30\n",
      "798/798 [==============================] - 224s 281ms/step - loss: 0.3262 - acc: 0.8985 - val_loss: 0.2845 - val_acc: 0.9191\n",
      "Epoch 30/30\n",
      "798/798 [==============================] - 224s 280ms/step - loss: 0.3081 - acc: 0.9089 - val_loss: 0.2498 - val_acc: 0.9224\n"
     ]
    }
   ],
   "source": [
    "with tf.device('/device:GPU:1'):\n",
    "    history_Xception = Xception_transfer.fit_generator(train_generator,epochs=epoch,shuffle=True,verbose=1,validation_data=valid_generator)"
   ]
  },
  {
   "cell_type": "markdown",
   "metadata": {},
   "source": [
    "## Evaluate\n",
    "\n",
    "這裡比較五種模型在`validation set`上面的`loss`以及`accuracy`的表現：\n",
    "\n",
    "* 在`loss`方面，`Xception`與`ResNet50`都能夠降到一定的程度，其餘模型表現在此資料集略為失色。\n",
    "\n",
    "* 在`accuracy`方面，`ResNet50`在初期就有不錯的準確率，到後面也略為上升，而`Xception`則是穩定上升，在`epoch`到達30時，還有繼續上升的趨勢。"
   ]
  },
  {
   "cell_type": "code",
   "execution_count": 58,
   "metadata": {},
   "outputs": [],
   "source": [
    "valid_loss = pd.DataFrame({'epoch':np.arange(30)+1,\n",
    "                           'VGG16':history_VGG16.history['val_loss'],\n",
    "                           'VGG19':history_VGG19.history['val_loss'],\n",
    "                           'ResNet50':history_ResNet50.history['val_loss'],\n",
    "                           'InceptionV3':history_InceptionV3.history['val_loss'],\n",
    "                           'Xception':history_Xception.history['val_loss']},)\n",
    "valid_loss = valid_loss[['epoch','VGG16','VGG19','ResNet50','InceptionResNetV2','InceptionV3','Xception']]"
   ]
  },
  {
   "cell_type": "code",
   "execution_count": 59,
   "metadata": {},
   "outputs": [],
   "source": [
    "valid_acc = pd.DataFrame({'epoch':np.arange(30)+1,\n",
    "                          'VGG16':history_VGG16.history['val_acc'],\n",
    "                          'VGG19':history_VGG19.history['val_acc'],\n",
    "                          'ResNet50':history_ResNet50.history['val_acc'],\n",
    "                          'InceptionV3':history_InceptionV3.history['val_acc'],\n",
    "                          'Xception':history_Xception.history['val_acc']},)\n",
    "valid_acc = valid_acc[['epoch','VGG16','VGG19','ResNet50','InceptionResNetV2','InceptionV3','Xception']]"
   ]
  },
  {
   "cell_type": "code",
   "execution_count": 83,
   "metadata": {
    "scrolled": false
   },
   "outputs": [
    {
     "data": {
      "image/png": "[encoded data removed]",
      "text/plain": [
       "<matplotlib.figure.Figure at 0x7fcd89d93400>"
      ]
     },
     "metadata": {},
     "output_type": "display_data"
    }
   ],
   "source": [
    "rcParams['figure.figsize']=(15,8)\n",
    "plt.subplot(1,2,1)\n",
    "plt.plot(valid_loss['epoch'],valid_loss[['VGG16','VGG19','ResNet50','InceptionV3','Xception']])\n",
    "plt.legend(labels=['VGG16','VGG19','ResNet50','InceptionV3','Xception'])\n",
    "plt.title('Validation set loss',size=20)\n",
    "\n",
    "plt.subplot(1,2,2)\n",
    "plt.plot(valid_acc['epoch'],valid_acc[['VGG16','VGG19','ResNet50','InceptionV3','Xception']])\n",
    "plt.legend(labels=['VGG16','VGG19','ResNet50','InceptionV3','Xception'])\n",
    "plt.title('Validation set accuracy',size=20)\n",
    "\n",
    "plt.show()"
   ]
  },
  {
   "cell_type": "code",
   "execution_count": 86,
   "metadata": {},
   "outputs": [
    {
     "data": {
      "text/html": [
       "<script>\n",
       "code_show=true; \n",
       "function code_toggle() {\n",
       " if (code_show){\n",
       " $('div.input').hide();\n",
       " } else {\n",
       " $('div.input').show();\n",
       " }\n",
       " code_show = !code_show\n",
       "} \n",
       "$( document ).ready(code_toggle);\n",
       "</script>\n",
       "<form action=\"javascript:code_toggle()\"><input type=\"submit\" value=\"Click here to toggle on/off the raw code.\"></form>"
      ],
      "text/plain": [
       "<IPython.core.display.HTML object>"
      ]
     },
     "execution_count": 86,
     "metadata": {},
     "output_type": "execute_result"
    }
   ],
   "source": [
    "from IPython.display import HTML\n",
    "\n",
    "HTML('''<script>\n",
    "code_show=true; \n",
    "function code_toggle() {\n",
    " if (code_show){\n",
    " $('div.input').hide();\n",
    " } else {\n",
    " $('div.input').show();\n",
    " }\n",
    " code_show = !code_show\n",
    "} \n",
    "$( document ).ready(code_toggle);\n",
    "</script>\n",
    "<form action=\"javascript:code_toggle()\"><input type=\"submit\" value=\"Click here to toggle on/off the raw code.\"></form>''')"
   ]
  },
  {
   "cell_type": "markdown",
   "metadata": {},
   "source": [
    "# Test\n",
    "\n",
    "這裏使用`Xception`的模型來預測，需要將其`resize`成`256x256`，然後再`rescale`。"
   ]
  },
  {
   "cell_type": "code",
   "execution_count": 36,
   "metadata": {},
   "outputs": [
    {
     "name": "stdout",
     "output_type": "stream",
     "text": [
      "Test Images shape: (1500, 256, 256, 3) size: 294,912,000\n"
     ]
    }
   ],
   "source": [
    "test= os.listdir('testset/')\n",
    "\n",
    "x_test = np.zeros((len(test), img_height, img_width, 3), dtype='float32')\n",
    "for i in range(len(test)):\n",
    "    gg = image.load_img('testset/' + test[i],target_size=(img_height, img_width))\n",
    "    gg = image.img_to_array(gg) / 255\n",
    "    x_test[i] = gg\n",
    "print('Test Images shape: {} size: {:,}'.format(x_test.shape, x_test.size))"
   ]
  },
  {
   "cell_type": "code",
   "execution_count": 37,
   "metadata": {},
   "outputs": [],
   "source": [
    "prediction_prob = history_Xception.model.predict(x_test)"
   ]
  },
  {
   "cell_type": "code",
   "execution_count": 38,
   "metadata": {},
   "outputs": [
    {
     "data": {
      "text/plain": [
       "array([13,  9, 11, ...,  7, 12,  0])"
      ]
     },
     "execution_count": 38,
     "metadata": {},
     "output_type": "execute_result"
    }
   ],
   "source": [
    "prediction = np.argmax(prediction_prob,axis=1)\n",
    "prediction"
   ]
  },
  {
   "cell_type": "markdown",
   "metadata": {},
   "source": [
    "# Submission\n",
    "\n",
    "在上傳前需注意，使用`ImageDataGenerator`產生的`labelencoder`順序跟`mid_term_mapping.txt`這份文件順序不一樣，所以需要轉換。"
   ]
  },
  {
   "cell_type": "code",
   "execution_count": 39,
   "metadata": {},
   "outputs": [],
   "source": [
    "inverdict = {k:v for v,k in train_generator.class_indices.items()} # 將key與value對調\n",
    "prediction = [inverdict.get(k) for k in prediction] # map"
   ]
  },
  {
   "cell_type": "code",
   "execution_count": 40,
   "metadata": {},
   "outputs": [],
   "source": [
    "correct_dict = {'kitchen':0,'street':1,'industrial':2,'insidecity':3,'forest':4,'livingroom':5,'opencountry':6,\n",
    "                'PARoffice':7,'mountain':8,'CALsuburb':9,'coast':10,'store':11,'bedroom':12,'tallbuilding':13,\n",
    "                'highway':14}"
   ]
  },
  {
   "cell_type": "code",
   "execution_count": 41,
   "metadata": {},
   "outputs": [],
   "source": [
    "submission = pd.DataFrame({'class':[correct_dict[k] for k in prediction], 'id':[i.split('.')[0] for i in test]})\n",
    "submission = submission[['id','class']]"
   ]
  },
  {
   "cell_type": "code",
   "execution_count": 42,
   "metadata": {},
   "outputs": [],
   "source": [
    "submission.to_csv('submission.csv',index=False)"
   ]
  },
  {
   "cell_type": "markdown",
   "metadata": {},
   "source": [
    "![submission](submission.png)"
   ]
  },
  {
   "cell_type": "markdown",
   "metadata": {},
   "source": [
    "# [Extract Xception bottleneck features](https://www.kaggle.com/gaborfodor/seedlings-pretrained-keras-models)\n",
    "\n",
    "上面使用的方法是在各個已訓練的模型中把`fully connected layer`設定成自己期待的輸出結果，你可以想像成用已訓練的權重當作`initializer`，而不是用`random_normal`或是`random_uniform`等等的`initializer`，接著將`label`設定為自己的類別數目，然後再進行訓練。\n",
    "\n",
    "![transfer](transfer learning.png)\n",
    "\n",
    "\n",
    "而這裡的方法`bottleneck features`不是在後面加上`fully connected layer`，而是直接用模型在`fully connected layer`前的`Pooling layer`的`output`當作輸出，然後作為新的`Feature`與`label`餵進傳統的機器學習模型。"
   ]
  },
  {
   "cell_type": "code",
   "execution_count": 47,
   "metadata": {},
   "outputs": [],
   "source": [
    "from sklearn.linear_model import LogisticRegression\n",
    "from sklearn.metrics import accuracy_score\n",
    "from sklearn.svm import SVC\n",
    "from sklearn.ensemble import RandomForestClassifier\n",
    "from xgboost import XGBClassifier\n",
    "SEED=10\n",
    "input_size=256\n",
    "batch_size=32"
   ]
  },
  {
   "cell_type": "code",
   "execution_count": 48,
   "metadata": {},
   "outputs": [
    {
     "name": "stdout",
     "output_type": "stream",
     "text": [
      "Train images shape: (2392, 256, 256, 3) size: 470286336, class shape: (2392,)\n"
     ]
    }
   ],
   "source": [
    "train_path = os.listdir('train/')\n",
    "x_train = np.zeros((len(train_generator.filenames), input_size, input_size, 3), dtype='float32')\n",
    "for i in range(len(train_generator.filenames)):\n",
    "    img = image.load_img('train/' + train_generator.filenames[i], target_size=(input_size, input_size))\n",
    "    img = image.img_to_array(img)\n",
    "    x = applications.xception.preprocess_input(np.expand_dims(img.copy(), axis=0))\n",
    "    x_train[i] = x\n",
    "    \n",
    "y_train = train_generator.classes\n",
    "print('Train images shape: {} size: {}, class shape: {}'.format(x_train.shape, x_train.size, y_train.shape))"
   ]
  },
  {
   "cell_type": "code",
   "execution_count": 49,
   "metadata": {},
   "outputs": [
    {
     "name": "stdout",
     "output_type": "stream",
     "text": [
      "Train images shape: (593, 256, 256, 3) size: 116588544, class shape: (593,)\n"
     ]
    }
   ],
   "source": [
    "valid_path = os.listdir('validation/')\n",
    "x_valid = np.zeros((len(valid_generator.filenames), input_size, input_size, 3), dtype='float32')\n",
    "for i in range(len(valid_generator.filenames)):\n",
    "    img = image.load_img('validation/' + valid_generator.filenames[i], target_size=(input_size, input_size))\n",
    "    img = image.img_to_array(img)\n",
    "    x = applications.xception.preprocess_input(np.expand_dims(img.copy(), axis=0))\n",
    "    x_valid[i] = x\n",
    "\n",
    "y_valid = valid_generator.classes\n",
    "print('Train images shape: {} size: {}, class shape: {}'.format(x_valid.shape, x_valid.size, y_valid.shape))"
   ]
  },
  {
   "cell_type": "code",
   "execution_count": 50,
   "metadata": {},
   "outputs": [
    {
     "name": "stdout",
     "output_type": "stream",
     "text": [
      "2392/2392 [==============================] - 14s 6ms/step\n",
      "593/593 [==============================] - 3s 5ms/step\n",
      "Xception train bottleneck features shape: (2392, 2048) size: 4,898,816\n",
      "Xception valid bottleneck features shape: (593, 2048) size: 1,214,464\n"
     ]
    }
   ],
   "source": [
    "pooling='avg'\n",
    "xception_bottleneck = applications.xception.Xception(weights='imagenet', include_top=False, pooling=pooling)\n",
    "train_x_bf = xception_bottleneck.predict(x_train, batch_size=batch_size, verbose=1)\n",
    "valid_x_bf = xception_bottleneck.predict(x_valid, batch_size=batch_size, verbose=1)\n",
    "print('Xception train bottleneck features shape: {} size: {:,}'.format(train_x_bf.shape, train_x_bf.size))\n",
    "print('Xception valid bottleneck features shape: {} size: {:,}'.format(valid_x_bf.shape, valid_x_bf.size))"
   ]
  },
  {
   "cell_type": "markdown",
   "metadata": {},
   "source": [
    "我們可以使用`summary`來觀察結構，預測值是最後`global_average_pooling2d_7`的輸出，然後這個輸出接下來會作為`SVM,xgboost`等等傳統機器學習模型的訓練資料。"
   ]
  },
  {
   "cell_type": "code",
   "execution_count": 56,
   "metadata": {},
   "outputs": [
    {
     "name": "stdout",
     "output_type": "stream",
     "text": [
      "__________________________________________________________________________________________________\n",
      "Layer (type)                    Output Shape         Param #     Connected to                     \n",
      "==================================================================================================\n",
      "input_7 (InputLayer)            (None, None, None, 3 0                                            \n",
      "__________________________________________________________________________________________________\n",
      "block1_conv1 (Conv2D)           (None, None, None, 3 864         input_7[0][0]                    \n",
      "__________________________________________________________________________________________________\n",
      "block1_conv1_bn (BatchNormaliza (None, None, None, 3 128         block1_conv1[0][0]               \n",
      "__________________________________________________________________________________________________\n",
      "block1_conv1_act (Activation)   (None, None, None, 3 0           block1_conv1_bn[0][0]            \n",
      "__________________________________________________________________________________________________\n",
      "block1_conv2 (Conv2D)           (None, None, None, 6 18432       block1_conv1_act[0][0]           \n",
      "__________________________________________________________________________________________________\n",
      "block1_conv2_bn (BatchNormaliza (None, None, None, 6 256         block1_conv2[0][0]               \n",
      "__________________________________________________________________________________________________\n",
      "block1_conv2_act (Activation)   (None, None, None, 6 0           block1_conv2_bn[0][0]            \n",
      "__________________________________________________________________________________________________\n",
      "block2_sepconv1 (SeparableConv2 (None, None, None, 1 8768        block1_conv2_act[0][0]           \n",
      "__________________________________________________________________________________________________\n",
      "block2_sepconv1_bn (BatchNormal (None, None, None, 1 512         block2_sepconv1[0][0]            \n",
      "__________________________________________________________________________________________________\n",
      "block2_sepconv2_act (Activation (None, None, None, 1 0           block2_sepconv1_bn[0][0]         \n",
      "__________________________________________________________________________________________________\n",
      "block2_sepconv2 (SeparableConv2 (None, None, None, 1 17536       block2_sepconv2_act[0][0]        \n",
      "__________________________________________________________________________________________________\n",
      "block2_sepconv2_bn (BatchNormal (None, None, None, 1 512         block2_sepconv2[0][0]            \n",
      "__________________________________________________________________________________________________\n",
      "conv2d_17 (Conv2D)              (None, None, None, 1 8192        block1_conv2_act[0][0]           \n",
      "__________________________________________________________________________________________________\n",
      "block2_pool (MaxPooling2D)      (None, None, None, 1 0           block2_sepconv2_bn[0][0]         \n",
      "__________________________________________________________________________________________________\n",
      "batch_normalization_17 (BatchNo (None, None, None, 1 512         conv2d_17[0][0]                  \n",
      "__________________________________________________________________________________________________\n",
      "add_81 (Add)                    (None, None, None, 1 0           block2_pool[0][0]                \n",
      "                                                                 batch_normalization_17[0][0]     \n",
      "__________________________________________________________________________________________________\n",
      "block3_sepconv1_act (Activation (None, None, None, 1 0           add_81[0][0]                     \n",
      "__________________________________________________________________________________________________\n",
      "block3_sepconv1 (SeparableConv2 (None, None, None, 2 33920       block3_sepconv1_act[0][0]        \n",
      "__________________________________________________________________________________________________\n",
      "block3_sepconv1_bn (BatchNormal (None, None, None, 2 1024        block3_sepconv1[0][0]            \n",
      "__________________________________________________________________________________________________\n",
      "block3_sepconv2_act (Activation (None, None, None, 2 0           block3_sepconv1_bn[0][0]         \n",
      "__________________________________________________________________________________________________\n",
      "block3_sepconv2 (SeparableConv2 (None, None, None, 2 67840       block3_sepconv2_act[0][0]        \n",
      "__________________________________________________________________________________________________\n",
      "block3_sepconv2_bn (BatchNormal (None, None, None, 2 1024        block3_sepconv2[0][0]            \n",
      "__________________________________________________________________________________________________\n",
      "conv2d_18 (Conv2D)              (None, None, None, 2 32768       add_81[0][0]                     \n",
      "__________________________________________________________________________________________________\n",
      "block3_pool (MaxPooling2D)      (None, None, None, 2 0           block3_sepconv2_bn[0][0]         \n",
      "__________________________________________________________________________________________________\n",
      "batch_normalization_18 (BatchNo (None, None, None, 2 1024        conv2d_18[0][0]                  \n",
      "__________________________________________________________________________________________________\n",
      "add_82 (Add)                    (None, None, None, 2 0           block3_pool[0][0]                \n",
      "                                                                 batch_normalization_18[0][0]     \n",
      "__________________________________________________________________________________________________\n",
      "block4_sepconv1_act (Activation (None, None, None, 2 0           add_82[0][0]                     \n",
      "__________________________________________________________________________________________________\n",
      "block4_sepconv1 (SeparableConv2 (None, None, None, 7 188672      block4_sepconv1_act[0][0]        \n",
      "__________________________________________________________________________________________________\n",
      "block4_sepconv1_bn (BatchNormal (None, None, None, 7 2912        block4_sepconv1[0][0]            \n",
      "__________________________________________________________________________________________________\n",
      "block4_sepconv2_act (Activation (None, None, None, 7 0           block4_sepconv1_bn[0][0]         \n",
      "__________________________________________________________________________________________________\n",
      "block4_sepconv2 (SeparableConv2 (None, None, None, 7 536536      block4_sepconv2_act[0][0]        \n",
      "__________________________________________________________________________________________________\n",
      "block4_sepconv2_bn (BatchNormal (None, None, None, 7 2912        block4_sepconv2[0][0]            \n",
      "__________________________________________________________________________________________________\n",
      "conv2d_19 (Conv2D)              (None, None, None, 7 186368      add_82[0][0]                     \n",
      "__________________________________________________________________________________________________\n",
      "block4_pool (MaxPooling2D)      (None, None, None, 7 0           block4_sepconv2_bn[0][0]         \n",
      "__________________________________________________________________________________________________\n",
      "batch_normalization_19 (BatchNo (None, None, None, 7 2912        conv2d_19[0][0]                  \n",
      "__________________________________________________________________________________________________\n",
      "add_83 (Add)                    (None, None, None, 7 0           block4_pool[0][0]                \n",
      "                                                                 batch_normalization_19[0][0]     \n",
      "__________________________________________________________________________________________________\n",
      "block5_sepconv1_act (Activation (None, None, None, 7 0           add_83[0][0]                     \n",
      "__________________________________________________________________________________________________\n",
      "block5_sepconv1 (SeparableConv2 (None, None, None, 7 536536      block5_sepconv1_act[0][0]        \n",
      "__________________________________________________________________________________________________\n",
      "block5_sepconv1_bn (BatchNormal (None, None, None, 7 2912        block5_sepconv1[0][0]            \n",
      "__________________________________________________________________________________________________\n",
      "block5_sepconv2_act (Activation (None, None, None, 7 0           block5_sepconv1_bn[0][0]         \n",
      "__________________________________________________________________________________________________\n",
      "block5_sepconv2 (SeparableConv2 (None, None, None, 7 536536      block5_sepconv2_act[0][0]        \n",
      "__________________________________________________________________________________________________\n",
      "block5_sepconv2_bn (BatchNormal (None, None, None, 7 2912        block5_sepconv2[0][0]            \n",
      "__________________________________________________________________________________________________\n",
      "block5_sepconv3_act (Activation (None, None, None, 7 0           block5_sepconv2_bn[0][0]         \n",
      "__________________________________________________________________________________________________\n",
      "block5_sepconv3 (SeparableConv2 (None, None, None, 7 536536      block5_sepconv3_act[0][0]        \n",
      "__________________________________________________________________________________________________\n",
      "block5_sepconv3_bn (BatchNormal (None, None, None, 7 2912        block5_sepconv3[0][0]            \n",
      "__________________________________________________________________________________________________\n",
      "add_84 (Add)                    (None, None, None, 7 0           block5_sepconv3_bn[0][0]         \n",
      "                                                                 add_83[0][0]                     \n",
      "__________________________________________________________________________________________________\n",
      "block6_sepconv1_act (Activation (None, None, None, 7 0           add_84[0][0]                     \n",
      "__________________________________________________________________________________________________\n",
      "block6_sepconv1 (SeparableConv2 (None, None, None, 7 536536      block6_sepconv1_act[0][0]        \n",
      "__________________________________________________________________________________________________\n",
      "block6_sepconv1_bn (BatchNormal (None, None, None, 7 2912        block6_sepconv1[0][0]            \n",
      "__________________________________________________________________________________________________\n",
      "block6_sepconv2_act (Activation (None, None, None, 7 0           block6_sepconv1_bn[0][0]         \n",
      "__________________________________________________________________________________________________\n",
      "block6_sepconv2 (SeparableConv2 (None, None, None, 7 536536      block6_sepconv2_act[0][0]        \n",
      "__________________________________________________________________________________________________\n",
      "block6_sepconv2_bn (BatchNormal (None, None, None, 7 2912        block6_sepconv2[0][0]            \n",
      "__________________________________________________________________________________________________\n",
      "block6_sepconv3_act (Activation (None, None, None, 7 0           block6_sepconv2_bn[0][0]         \n",
      "__________________________________________________________________________________________________\n",
      "block6_sepconv3 (SeparableConv2 (None, None, None, 7 536536      block6_sepconv3_act[0][0]        \n",
      "__________________________________________________________________________________________________\n",
      "block6_sepconv3_bn (BatchNormal (None, None, None, 7 2912        block6_sepconv3[0][0]            \n",
      "__________________________________________________________________________________________________\n",
      "add_85 (Add)                    (None, None, None, 7 0           block6_sepconv3_bn[0][0]         \n",
      "                                                                 add_84[0][0]                     \n",
      "__________________________________________________________________________________________________\n",
      "block7_sepconv1_act (Activation (None, None, None, 7 0           add_85[0][0]                     \n",
      "__________________________________________________________________________________________________\n",
      "block7_sepconv1 (SeparableConv2 (None, None, None, 7 536536      block7_sepconv1_act[0][0]        \n",
      "__________________________________________________________________________________________________\n",
      "block7_sepconv1_bn (BatchNormal (None, None, None, 7 2912        block7_sepconv1[0][0]            \n",
      "__________________________________________________________________________________________________\n",
      "block7_sepconv2_act (Activation (None, None, None, 7 0           block7_sepconv1_bn[0][0]         \n",
      "__________________________________________________________________________________________________\n",
      "block7_sepconv2 (SeparableConv2 (None, None, None, 7 536536      block7_sepconv2_act[0][0]        \n",
      "__________________________________________________________________________________________________\n",
      "block7_sepconv2_bn (BatchNormal (None, None, None, 7 2912        block7_sepconv2[0][0]            \n",
      "__________________________________________________________________________________________________\n",
      "block7_sepconv3_act (Activation (None, None, None, 7 0           block7_sepconv2_bn[0][0]         \n",
      "__________________________________________________________________________________________________\n",
      "block7_sepconv3 (SeparableConv2 (None, None, None, 7 536536      block7_sepconv3_act[0][0]        \n",
      "__________________________________________________________________________________________________\n",
      "block7_sepconv3_bn (BatchNormal (None, None, None, 7 2912        block7_sepconv3[0][0]            \n",
      "__________________________________________________________________________________________________\n",
      "add_86 (Add)                    (None, None, None, 7 0           block7_sepconv3_bn[0][0]         \n",
      "                                                                 add_85[0][0]                     \n",
      "__________________________________________________________________________________________________\n",
      "block8_sepconv1_act (Activation (None, None, None, 7 0           add_86[0][0]                     \n",
      "__________________________________________________________________________________________________\n",
      "block8_sepconv1 (SeparableConv2 (None, None, None, 7 536536      block8_sepconv1_act[0][0]        \n",
      "__________________________________________________________________________________________________\n",
      "block8_sepconv1_bn (BatchNormal (None, None, None, 7 2912        block8_sepconv1[0][0]            \n",
      "__________________________________________________________________________________________________\n",
      "block8_sepconv2_act (Activation (None, None, None, 7 0           block8_sepconv1_bn[0][0]         \n",
      "__________________________________________________________________________________________________\n",
      "block8_sepconv2 (SeparableConv2 (None, None, None, 7 536536      block8_sepconv2_act[0][0]        \n",
      "__________________________________________________________________________________________________\n",
      "block8_sepconv2_bn (BatchNormal (None, None, None, 7 2912        block8_sepconv2[0][0]            \n",
      "__________________________________________________________________________________________________\n",
      "block8_sepconv3_act (Activation (None, None, None, 7 0           block8_sepconv2_bn[0][0]         \n",
      "__________________________________________________________________________________________________\n",
      "block8_sepconv3 (SeparableConv2 (None, None, None, 7 536536      block8_sepconv3_act[0][0]        \n",
      "__________________________________________________________________________________________________\n",
      "block8_sepconv3_bn (BatchNormal (None, None, None, 7 2912        block8_sepconv3[0][0]            \n",
      "__________________________________________________________________________________________________\n",
      "add_87 (Add)                    (None, None, None, 7 0           block8_sepconv3_bn[0][0]         \n",
      "                                                                 add_86[0][0]                     \n",
      "__________________________________________________________________________________________________\n",
      "block9_sepconv1_act (Activation (None, None, None, 7 0           add_87[0][0]                     \n",
      "__________________________________________________________________________________________________\n",
      "block9_sepconv1 (SeparableConv2 (None, None, None, 7 536536      block9_sepconv1_act[0][0]        \n",
      "__________________________________________________________________________________________________\n",
      "block9_sepconv1_bn (BatchNormal (None, None, None, 7 2912        block9_sepconv1[0][0]            \n",
      "__________________________________________________________________________________________________\n",
      "block9_sepconv2_act (Activation (None, None, None, 7 0           block9_sepconv1_bn[0][0]         \n",
      "__________________________________________________________________________________________________\n",
      "block9_sepconv2 (SeparableConv2 (None, None, None, 7 536536      block9_sepconv2_act[0][0]        \n",
      "__________________________________________________________________________________________________\n",
      "block9_sepconv2_bn (BatchNormal (None, None, None, 7 2912        block9_sepconv2[0][0]            \n",
      "__________________________________________________________________________________________________\n",
      "block9_sepconv3_act (Activation (None, None, None, 7 0           block9_sepconv2_bn[0][0]         \n",
      "__________________________________________________________________________________________________\n",
      "block9_sepconv3 (SeparableConv2 (None, None, None, 7 536536      block9_sepconv3_act[0][0]        \n",
      "__________________________________________________________________________________________________\n",
      "block9_sepconv3_bn (BatchNormal (None, None, None, 7 2912        block9_sepconv3[0][0]            \n",
      "__________________________________________________________________________________________________\n",
      "add_88 (Add)                    (None, None, None, 7 0           block9_sepconv3_bn[0][0]         \n",
      "                                                                 add_87[0][0]                     \n",
      "__________________________________________________________________________________________________\n",
      "block10_sepconv1_act (Activatio (None, None, None, 7 0           add_88[0][0]                     \n",
      "__________________________________________________________________________________________________\n",
      "block10_sepconv1 (SeparableConv (None, None, None, 7 536536      block10_sepconv1_act[0][0]       \n",
      "__________________________________________________________________________________________________\n",
      "block10_sepconv1_bn (BatchNorma (None, None, None, 7 2912        block10_sepconv1[0][0]           \n",
      "__________________________________________________________________________________________________\n",
      "block10_sepconv2_act (Activatio (None, None, None, 7 0           block10_sepconv1_bn[0][0]        \n",
      "__________________________________________________________________________________________________\n",
      "block10_sepconv2 (SeparableConv (None, None, None, 7 536536      block10_sepconv2_act[0][0]       \n",
      "__________________________________________________________________________________________________\n",
      "block10_sepconv2_bn (BatchNorma (None, None, None, 7 2912        block10_sepconv2[0][0]           \n",
      "__________________________________________________________________________________________________\n",
      "block10_sepconv3_act (Activatio (None, None, None, 7 0           block10_sepconv2_bn[0][0]        \n",
      "__________________________________________________________________________________________________\n",
      "block10_sepconv3 (SeparableConv (None, None, None, 7 536536      block10_sepconv3_act[0][0]       \n",
      "__________________________________________________________________________________________________\n",
      "block10_sepconv3_bn (BatchNorma (None, None, None, 7 2912        block10_sepconv3[0][0]           \n",
      "__________________________________________________________________________________________________\n",
      "add_89 (Add)                    (None, None, None, 7 0           block10_sepconv3_bn[0][0]        \n",
      "                                                                 add_88[0][0]                     \n",
      "__________________________________________________________________________________________________\n",
      "block11_sepconv1_act (Activatio (None, None, None, 7 0           add_89[0][0]                     \n",
      "__________________________________________________________________________________________________\n",
      "block11_sepconv1 (SeparableConv (None, None, None, 7 536536      block11_sepconv1_act[0][0]       \n",
      "__________________________________________________________________________________________________\n",
      "block11_sepconv1_bn (BatchNorma (None, None, None, 7 2912        block11_sepconv1[0][0]           \n",
      "__________________________________________________________________________________________________\n",
      "block11_sepconv2_act (Activatio (None, None, None, 7 0           block11_sepconv1_bn[0][0]        \n",
      "__________________________________________________________________________________________________\n",
      "block11_sepconv2 (SeparableConv (None, None, None, 7 536536      block11_sepconv2_act[0][0]       \n",
      "__________________________________________________________________________________________________\n",
      "block11_sepconv2_bn (BatchNorma (None, None, None, 7 2912        block11_sepconv2[0][0]           \n",
      "__________________________________________________________________________________________________\n",
      "block11_sepconv3_act (Activatio (None, None, None, 7 0           block11_sepconv2_bn[0][0]        \n",
      "__________________________________________________________________________________________________\n",
      "block11_sepconv3 (SeparableConv (None, None, None, 7 536536      block11_sepconv3_act[0][0]       \n",
      "__________________________________________________________________________________________________\n",
      "block11_sepconv3_bn (BatchNorma (None, None, None, 7 2912        block11_sepconv3[0][0]           \n",
      "__________________________________________________________________________________________________\n",
      "add_90 (Add)                    (None, None, None, 7 0           block11_sepconv3_bn[0][0]        \n",
      "                                                                 add_89[0][0]                     \n",
      "__________________________________________________________________________________________________\n",
      "block12_sepconv1_act (Activatio (None, None, None, 7 0           add_90[0][0]                     \n",
      "__________________________________________________________________________________________________\n",
      "block12_sepconv1 (SeparableConv (None, None, None, 7 536536      block12_sepconv1_act[0][0]       \n",
      "__________________________________________________________________________________________________\n",
      "block12_sepconv1_bn (BatchNorma (None, None, None, 7 2912        block12_sepconv1[0][0]           \n",
      "__________________________________________________________________________________________________\n",
      "block12_sepconv2_act (Activatio (None, None, None, 7 0           block12_sepconv1_bn[0][0]        \n",
      "__________________________________________________________________________________________________\n",
      "block12_sepconv2 (SeparableConv (None, None, None, 7 536536      block12_sepconv2_act[0][0]       \n",
      "__________________________________________________________________________________________________\n",
      "block12_sepconv2_bn (BatchNorma (None, None, None, 7 2912        block12_sepconv2[0][0]           \n",
      "__________________________________________________________________________________________________\n",
      "block12_sepconv3_act (Activatio (None, None, None, 7 0           block12_sepconv2_bn[0][0]        \n",
      "__________________________________________________________________________________________________\n",
      "block12_sepconv3 (SeparableConv (None, None, None, 7 536536      block12_sepconv3_act[0][0]       \n",
      "__________________________________________________________________________________________________\n",
      "block12_sepconv3_bn (BatchNorma (None, None, None, 7 2912        block12_sepconv3[0][0]           \n",
      "__________________________________________________________________________________________________\n",
      "add_91 (Add)                    (None, None, None, 7 0           block12_sepconv3_bn[0][0]        \n",
      "                                                                 add_90[0][0]                     \n",
      "__________________________________________________________________________________________________\n",
      "block13_sepconv1_act (Activatio (None, None, None, 7 0           add_91[0][0]                     \n",
      "__________________________________________________________________________________________________\n",
      "block13_sepconv1 (SeparableConv (None, None, None, 7 536536      block13_sepconv1_act[0][0]       \n",
      "__________________________________________________________________________________________________\n",
      "block13_sepconv1_bn (BatchNorma (None, None, None, 7 2912        block13_sepconv1[0][0]           \n",
      "__________________________________________________________________________________________________\n",
      "block13_sepconv2_act (Activatio (None, None, None, 7 0           block13_sepconv1_bn[0][0]        \n",
      "__________________________________________________________________________________________________\n",
      "block13_sepconv2 (SeparableConv (None, None, None, 1 752024      block13_sepconv2_act[0][0]       \n",
      "__________________________________________________________________________________________________\n",
      "block13_sepconv2_bn (BatchNorma (None, None, None, 1 4096        block13_sepconv2[0][0]           \n",
      "__________________________________________________________________________________________________\n",
      "conv2d_20 (Conv2D)              (None, None, None, 1 745472      add_91[0][0]                     \n",
      "__________________________________________________________________________________________________\n",
      "block13_pool (MaxPooling2D)     (None, None, None, 1 0           block13_sepconv2_bn[0][0]        \n",
      "__________________________________________________________________________________________________\n",
      "batch_normalization_20 (BatchNo (None, None, None, 1 4096        conv2d_20[0][0]                  \n",
      "__________________________________________________________________________________________________\n",
      "add_92 (Add)                    (None, None, None, 1 0           block13_pool[0][0]               \n",
      "                                                                 batch_normalization_20[0][0]     \n",
      "__________________________________________________________________________________________________\n",
      "block14_sepconv1 (SeparableConv (None, None, None, 1 1582080     add_92[0][0]                     \n",
      "__________________________________________________________________________________________________\n",
      "block14_sepconv1_bn (BatchNorma (None, None, None, 1 6144        block14_sepconv1[0][0]           \n",
      "__________________________________________________________________________________________________\n",
      "block14_sepconv1_act (Activatio (None, None, None, 1 0           block14_sepconv1_bn[0][0]        \n",
      "__________________________________________________________________________________________________\n",
      "block14_sepconv2 (SeparableConv (None, None, None, 2 3159552     block14_sepconv1_act[0][0]       \n",
      "__________________________________________________________________________________________________\n",
      "block14_sepconv2_bn (BatchNorma (None, None, None, 2 8192        block14_sepconv2[0][0]           \n",
      "__________________________________________________________________________________________________\n",
      "block14_sepconv2_act (Activatio (None, None, None, 2 0           block14_sepconv2_bn[0][0]        \n",
      "__________________________________________________________________________________________________\n",
      "global_average_pooling2d_7 (Glo (None, 2048)         0           block14_sepconv2_act[0][0]       \n",
      "==================================================================================================\n",
      "Total params: 20,861,480\n",
      "Trainable params: 20,806,952\n",
      "Non-trainable params: 54,528\n",
      "__________________________________________________________________________________________________\n"
     ]
    }
   ],
   "source": [
    "xception_bottleneck.summary()"
   ]
  },
  {
   "cell_type": "markdown",
   "metadata": {},
   "source": [
    "# Logistic Regression on Xception bottlencek features"
   ]
  },
  {
   "cell_type": "code",
   "execution_count": 60,
   "metadata": {},
   "outputs": [],
   "source": [
    "logreg = LogisticRegression(multi_class='multinomial', solver='lbfgs', random_state=SEED)\n",
    "logreg.fit(train_x_bf, y_train)\n",
    "logreg_valid_preds = logreg.predict(valid_x_bf)"
   ]
  },
  {
   "cell_type": "code",
   "execution_count": 55,
   "metadata": {},
   "outputs": [
    {
     "name": "stdout",
     "output_type": "stream",
     "text": [
      "LogReg with Xception bottleneck on validation: 0.9207419898819561\n"
     ]
    }
   ],
   "source": [
    "print('LogReg with Xception bottleneck on validation: {}'.format(accuracy_score(y_valid, logreg_valid_preds)))"
   ]
  },
  {
   "cell_type": "markdown",
   "metadata": {},
   "source": [
    "# SVC on Xception bottleneck features\n",
    "\n",
    "## Linear"
   ]
  },
  {
   "cell_type": "code",
   "execution_count": 72,
   "metadata": {},
   "outputs": [],
   "source": [
    "svc_linear = SVC(kernel='linear',C=0.1)\n",
    "svc_linear.fit(train_x_bf, y_train)\n",
    "linsvc_valid_preds = svc_linear.predict(valid_x_bf)"
   ]
  },
  {
   "cell_type": "code",
   "execution_count": 71,
   "metadata": {},
   "outputs": [
    {
     "name": "stdout",
     "output_type": "stream",
     "text": [
      "Linear SVC with Xception bottleneck on validation: 0.9106239460370995\n"
     ]
    }
   ],
   "source": [
    "print('Linear SVC with Xception bottleneck on validation: {}'.format(accuracy_score(y_valid, linsvc_valid_preds)))"
   ]
  },
  {
   "cell_type": "markdown",
   "metadata": {},
   "source": [
    "## RBF"
   ]
  },
  {
   "cell_type": "code",
   "execution_count": 132,
   "metadata": {},
   "outputs": [],
   "source": [
    "svc_rbf = SVC(kernel='rbf',gamma=0.01,C=10)\n",
    "svc_rbf.fit(train_x_bf, y_train)\n",
    "rbfsvc_valid_preds = svc_rbf.predict(valid_x_bf)"
   ]
  },
  {
   "cell_type": "code",
   "execution_count": 133,
   "metadata": {},
   "outputs": [
    {
     "name": "stdout",
     "output_type": "stream",
     "text": [
      "RBF SVC with Xception bottleneck on validation: 0.9156829679595279\n"
     ]
    }
   ],
   "source": [
    "print('RBF SVC with Xception bottleneck on validation: {}'.format(accuracy_score(y_valid, rbfsvc_valid_preds)))"
   ]
  },
  {
   "cell_type": "markdown",
   "metadata": {},
   "source": [
    "## xgboost on Xception bottlencek features"
   ]
  },
  {
   "cell_type": "code",
   "execution_count": 115,
   "metadata": {
    "scrolled": true
   },
   "outputs": [
    {
     "name": "stdout",
     "output_type": "stream",
     "text": [
      "[0]\tvalidation_0-merror:0.291737\n",
      "Will train until validation_0-merror hasn't improved in 15 rounds.\n",
      "[1]\tvalidation_0-merror:0.23946\n",
      "[2]\tvalidation_0-merror:0.200675\n",
      "[3]\tvalidation_0-merror:0.18887\n",
      "[4]\tvalidation_0-merror:0.192243\n",
      "[5]\tvalidation_0-merror:0.182125\n",
      "[6]\tvalidation_0-merror:0.182125\n",
      "[7]\tvalidation_0-merror:0.172007\n",
      "[8]\tvalidation_0-merror:0.175379\n",
      "[9]\tvalidation_0-merror:0.17032\n",
      "[10]\tvalidation_0-merror:0.163575\n",
      "[11]\tvalidation_0-merror:0.163575\n",
      "[12]\tvalidation_0-merror:0.161889\n",
      "[13]\tvalidation_0-merror:0.165261\n",
      "[14]\tvalidation_0-merror:0.163575\n",
      "[15]\tvalidation_0-merror:0.153457\n",
      "[16]\tvalidation_0-merror:0.151771\n",
      "[17]\tvalidation_0-merror:0.150084\n",
      "[18]\tvalidation_0-merror:0.150084\n",
      "[19]\tvalidation_0-merror:0.150084\n",
      "[20]\tvalidation_0-merror:0.148398\n",
      "[21]\tvalidation_0-merror:0.143339\n",
      "[22]\tvalidation_0-merror:0.143339\n",
      "[23]\tvalidation_0-merror:0.145025\n",
      "[24]\tvalidation_0-merror:0.141653\n",
      "[25]\tvalidation_0-merror:0.139966\n",
      "[26]\tvalidation_0-merror:0.141653\n",
      "[27]\tvalidation_0-merror:0.139966\n",
      "[28]\tvalidation_0-merror:0.141653\n",
      "[29]\tvalidation_0-merror:0.139966\n",
      "[30]\tvalidation_0-merror:0.141653\n",
      "[31]\tvalidation_0-merror:0.139966\n",
      "[32]\tvalidation_0-merror:0.139966\n",
      "[33]\tvalidation_0-merror:0.139966\n",
      "[34]\tvalidation_0-merror:0.13828\n",
      "[35]\tvalidation_0-merror:0.13828\n",
      "[36]\tvalidation_0-merror:0.13828\n",
      "[37]\tvalidation_0-merror:0.133221\n",
      "[38]\tvalidation_0-merror:0.129848\n",
      "[39]\tvalidation_0-merror:0.131535\n",
      "[40]\tvalidation_0-merror:0.128162\n",
      "[41]\tvalidation_0-merror:0.129848\n",
      "[42]\tvalidation_0-merror:0.133221\n",
      "[43]\tvalidation_0-merror:0.131535\n",
      "[44]\tvalidation_0-merror:0.134907\n",
      "[45]\tvalidation_0-merror:0.129848\n",
      "[46]\tvalidation_0-merror:0.129848\n",
      "[47]\tvalidation_0-merror:0.129848\n",
      "[48]\tvalidation_0-merror:0.129848\n",
      "[49]\tvalidation_0-merror:0.128162\n",
      "[50]\tvalidation_0-merror:0.128162\n",
      "[51]\tvalidation_0-merror:0.128162\n",
      "[52]\tvalidation_0-merror:0.126476\n",
      "[53]\tvalidation_0-merror:0.126476\n",
      "[54]\tvalidation_0-merror:0.128162\n",
      "[55]\tvalidation_0-merror:0.128162\n",
      "[56]\tvalidation_0-merror:0.128162\n",
      "[57]\tvalidation_0-merror:0.126476\n",
      "[58]\tvalidation_0-merror:0.126476\n",
      "[59]\tvalidation_0-merror:0.128162\n",
      "[60]\tvalidation_0-merror:0.126476\n",
      "[61]\tvalidation_0-merror:0.124789\n",
      "[62]\tvalidation_0-merror:0.124789\n",
      "[63]\tvalidation_0-merror:0.124789\n",
      "[64]\tvalidation_0-merror:0.124789\n",
      "[65]\tvalidation_0-merror:0.124789\n",
      "[66]\tvalidation_0-merror:0.124789\n",
      "[67]\tvalidation_0-merror:0.124789\n",
      "[68]\tvalidation_0-merror:0.124789\n",
      "[69]\tvalidation_0-merror:0.124789\n",
      "[70]\tvalidation_0-merror:0.126476\n",
      "[71]\tvalidation_0-merror:0.124789\n",
      "[72]\tvalidation_0-merror:0.124789\n",
      "[73]\tvalidation_0-merror:0.124789\n",
      "[74]\tvalidation_0-merror:0.126476\n",
      "[75]\tvalidation_0-merror:0.123103\n",
      "[76]\tvalidation_0-merror:0.123103\n",
      "[77]\tvalidation_0-merror:0.123103\n",
      "[78]\tvalidation_0-merror:0.121417\n",
      "[79]\tvalidation_0-merror:0.123103\n",
      "[80]\tvalidation_0-merror:0.123103\n",
      "[81]\tvalidation_0-merror:0.121417\n",
      "[82]\tvalidation_0-merror:0.121417\n",
      "[83]\tvalidation_0-merror:0.121417\n",
      "[84]\tvalidation_0-merror:0.121417\n",
      "[85]\tvalidation_0-merror:0.118044\n",
      "[86]\tvalidation_0-merror:0.118044\n",
      "[87]\tvalidation_0-merror:0.11973\n",
      "[88]\tvalidation_0-merror:0.121417\n",
      "[89]\tvalidation_0-merror:0.11973\n",
      "[90]\tvalidation_0-merror:0.118044\n",
      "[91]\tvalidation_0-merror:0.118044\n",
      "[92]\tvalidation_0-merror:0.116358\n",
      "[93]\tvalidation_0-merror:0.118044\n",
      "[94]\tvalidation_0-merror:0.116358\n",
      "[95]\tvalidation_0-merror:0.116358\n",
      "[96]\tvalidation_0-merror:0.116358\n",
      "[97]\tvalidation_0-merror:0.116358\n",
      "[98]\tvalidation_0-merror:0.116358\n",
      "[99]\tvalidation_0-merror:0.118044\n"
     ]
    }
   ],
   "source": [
    "eval_set=[(valid_x_bf, y_valid)]\n",
    "xgb = XGBClassifier(learning_rate=0.1)\n",
    "xgb.fit(train_x_bf, y_train, early_stopping_rounds=15, eval_set=eval_set, verbose=True)\n",
    "xgb_valid_preds = xgb.predict(valid_x_bf)"
   ]
  },
  {
   "cell_type": "code",
   "execution_count": 116,
   "metadata": {},
   "outputs": [
    {
     "name": "stdout",
     "output_type": "stream",
     "text": [
      "xgboost with Xception bottleneck on validation: 0.8819561551433389\n"
     ]
    }
   ],
   "source": [
    "print('xgboost with Xception bottleneck on validation: {}'.format(accuracy_score(y_valid, xgb_valid_preds)))"
   ]
  },
  {
   "cell_type": "markdown",
   "metadata": {},
   "source": [
    "# Predict test on best performance\n",
    "\n",
    "### Logistic Regression on Xception bottlencek features"
   ]
  },
  {
   "cell_type": "code",
   "execution_count": 137,
   "metadata": {},
   "outputs": [
    {
     "name": "stdout",
     "output_type": "stream",
     "text": [
      "Test Images shape: (1500, 256, 256, 3) size: 294,912,000\n"
     ]
    }
   ],
   "source": [
    "test = os.listdir('testset/')\n",
    "x_test = np.zeros((len(test), img_height, img_width, 3), dtype='float32')\n",
    "for i in range(len(test)):\n",
    "    img = image.load_img('testset/' + test[i],target_size=(img_height, img_width))\n",
    "    img = image.img_to_array(img)\n",
    "    x = applications.xception.preprocess_input(np.expand_dims(img.copy(), axis=0))\n",
    "    x_test[i] = x\n",
    "print('Test Images shape: {} size: {:,}'.format(x_test.shape, x_test.size))"
   ]
  },
  {
   "cell_type": "code",
   "execution_count": 138,
   "metadata": {},
   "outputs": [
    {
     "name": "stdout",
     "output_type": "stream",
     "text": [
      "1500/1500 [==============================] - 7s 5ms/step\n",
      "Xception test bottleneck features shape: (1500, 2048) size: 3,072,000\n"
     ]
    }
   ],
   "source": [
    "test_x_bf = xception_bottleneck.predict(x_test, batch_size=32, verbose=1)\n",
    "print('Xception test bottleneck features shape: {} size: {:,}'.format(test_x_bf.shape, test_x_bf.size))\n",
    "test_preds = logreg.predict(test_x_bf)"
   ]
  },
  {
   "cell_type": "code",
   "execution_count": 158,
   "metadata": {},
   "outputs": [],
   "source": [
    "test_preds = [inverdict.get(k) for k in test_preds] # map"
   ]
  },
  {
   "cell_type": "code",
   "execution_count": 160,
   "metadata": {},
   "outputs": [],
   "source": [
    "submission2 = pd.DataFrame({'class':[correct_dict[k] for k in test_preds], 'id':[i.split('.')[0] for i in test]})\n",
    "submission2 = submission2[['id','class']]"
   ]
  },
  {
   "cell_type": "code",
   "execution_count": 161,
   "metadata": {},
   "outputs": [],
   "source": [
    "submission2.to_csv('submission2.csv',index=False)"
   ]
  },
  {
   "cell_type": "markdown",
   "metadata": {},
   "source": [
    "# Extract Inception bottleneck features"
   ]
  },
  {
   "cell_type": "code",
   "execution_count": 222,
   "metadata": {},
   "outputs": [],
   "source": [
    "SEED=20\n",
    "input_size=299\n",
    "batch_size=32"
   ]
  },
  {
   "cell_type": "code",
   "execution_count": 223,
   "metadata": {},
   "outputs": [
    {
     "name": "stdout",
     "output_type": "stream",
     "text": [
      "Train images shape: (2392, 299, 299, 3) size: 641541576, class shape: (2392,)\n"
     ]
    }
   ],
   "source": [
    "train_path = os.listdir('train/')\n",
    "x_train = np.zeros((len(train_generator.filenames), input_size, input_size, 3), dtype='float32')\n",
    "for i in range(len(train_generator.filenames)):\n",
    "    img = image.load_img('train/' + train_generator.filenames[i], target_size=(input_size, input_size))\n",
    "    img = image.img_to_array(img)\n",
    "    x = applications.inception_v3.preprocess_input(np.expand_dims(img.copy(), axis=0))\n",
    "    x_train[i] = x\n",
    "    \n",
    "y_train = train_generator.classes\n",
    "print('Train images shape: {} size: {}, class shape: {}'.format(x_train.shape, x_train.size, y_train.shape))"
   ]
  },
  {
   "cell_type": "code",
   "execution_count": 224,
   "metadata": {},
   "outputs": [
    {
     "name": "stdout",
     "output_type": "stream",
     "text": [
      "Train images shape: (593, 299, 299, 3) size: 159044379, class shape: (593,)\n"
     ]
    }
   ],
   "source": [
    "valid_path = os.listdir('validation/')\n",
    "x_valid = np.zeros((len(valid_generator.filenames), input_size, input_size, 3), dtype='float32')\n",
    "for i in range(len(valid_generator.filenames)):\n",
    "    img = image.load_img('validation/' + valid_generator.filenames[i], target_size=(input_size, input_size))\n",
    "    img = image.img_to_array(img)\n",
    "    x = applications.inception_v3.preprocess_input(np.expand_dims(img.copy(), axis=0))\n",
    "    x_valid[i] = x\n",
    "\n",
    "y_valid = valid_generator.classes\n",
    "print('Train images shape: {} size: {}, class shape: {}'.format(x_valid.shape, x_valid.size, y_valid.shape))"
   ]
  },
  {
   "cell_type": "code",
   "execution_count": 225,
   "metadata": {},
   "outputs": [
    {
     "name": "stdout",
     "output_type": "stream",
     "text": [
      "2392/2392 [==============================] - 14s 6ms/step\n",
      "593/593 [==============================] - 3s 5ms/step\n",
      "Inception train bottleneck features shape: (2392, 2048) size: 4,898,816\n",
      "Inception valid bottleneck features shape: (593, 2048) size: 1,214,464\n"
     ]
    }
   ],
   "source": [
    "pooling='avg'\n",
    "Inception_bottleneck = applications.inception_v3.InceptionV3(weights='imagenet', include_top=False, pooling=pooling)\n",
    "train_x_bf = Inception_bottleneck.predict(x_train, batch_size=batch_size, verbose=1)\n",
    "valid_x_bf = Inception_bottleneck.predict(x_valid, batch_size=batch_size, verbose=1)\n",
    "print('Inception train bottleneck features shape: {} size: {:,}'.format(train_x_bf.shape, train_x_bf.size))\n",
    "print('Inception valid bottleneck features shape: {} size: {:,}'.format(valid_x_bf.shape, valid_x_bf.size))"
   ]
  },
  {
   "cell_type": "markdown",
   "metadata": {},
   "source": [
    "# Logistic Regression on Inception bottlencek features"
   ]
  },
  {
   "cell_type": "code",
   "execution_count": 240,
   "metadata": {},
   "outputs": [],
   "source": [
    "logreg = LogisticRegression(multi_class='multinomial', solver='newton-cg', random_state=SEED) # newton-cg: 0.946, lbfgs: 0.944\n",
    "logreg.fit(train_x_bf, y_train)\n",
    "logreg_valid_preds = logreg.predict(valid_x_bf)"
   ]
  },
  {
   "cell_type": "code",
   "execution_count": 241,
   "metadata": {},
   "outputs": [
    {
     "name": "stdout",
     "output_type": "stream",
     "text": [
      "LogReg with Inception bottleneck on validation: 0.9460370994940978\n"
     ]
    }
   ],
   "source": [
    "print('LogReg with Inception bottleneck on validation: {}'.format(accuracy_score(y_valid, logreg_valid_preds)))"
   ]
  },
  {
   "cell_type": "markdown",
   "metadata": {},
   "source": [
    "# SVC on Inception bottleneck features\n",
    "\n",
    "## Linear"
   ]
  },
  {
   "cell_type": "code",
   "execution_count": 249,
   "metadata": {},
   "outputs": [],
   "source": [
    "svc_linear = SVC(kernel='linear',C=1) #C=10: 0.932,C=1: 0.932 , C=0.1: 0.932, C=0.001: 0.929\n",
    "svc_linear.fit(train_x_bf, y_train)\n",
    "linsvc_valid_preds = svc_linear.predict(valid_x_bf)"
   ]
  },
  {
   "cell_type": "code",
   "execution_count": 250,
   "metadata": {},
   "outputs": [
    {
     "name": "stdout",
     "output_type": "stream",
     "text": [
      "Linear SVC with Inception bottleneck on validation: 0.9325463743676222\n"
     ]
    }
   ],
   "source": [
    "print('Linear SVC with Inception bottleneck on validation: {}'.format(accuracy_score(y_valid, linsvc_valid_preds)))"
   ]
  },
  {
   "cell_type": "markdown",
   "metadata": {},
   "source": [
    "## RBF"
   ]
  },
  {
   "cell_type": "code",
   "execution_count": 251,
   "metadata": {},
   "outputs": [],
   "source": [
    "svc_rbf = SVC(kernel='rbf',gamma=0.001,C=1) # C=1,gamma=0.001: 0.934, C=1,gamma=0.01: 0.917\n",
    "svc_rbf.fit(train_x_bf, y_train)\n",
    "rbfsvc_valid_preds = svc_rbf.predict(valid_x_bf)"
   ]
  },
  {
   "cell_type": "code",
   "execution_count": 252,
   "metadata": {},
   "outputs": [
    {
     "name": "stdout",
     "output_type": "stream",
     "text": [
      "RBF SVC with Inception bottleneck on validation: 0.9342327150084317\n"
     ]
    }
   ],
   "source": [
    "print('RBF SVC with Inception bottleneck on validation: {}'.format(accuracy_score(y_valid, rbfsvc_valid_preds)))"
   ]
  },
  {
   "cell_type": "markdown",
   "metadata": {},
   "source": [
    "## xgboost on Inception bottlencek features"
   ]
  },
  {
   "cell_type": "code",
   "execution_count": 259,
   "metadata": {
    "scrolled": true
   },
   "outputs": [
    {
     "name": "stdout",
     "output_type": "stream",
     "text": [
      "[0]\tvalidation_0-merror:0.283305\n",
      "Will train until validation_0-merror hasn't improved in 25 rounds.\n",
      "[1]\tvalidation_0-merror:0.227656\n",
      "[2]\tvalidation_0-merror:0.202361\n",
      "[3]\tvalidation_0-merror:0.193929\n",
      "[4]\tvalidation_0-merror:0.173693\n",
      "[5]\tvalidation_0-merror:0.166948\n",
      "[6]\tvalidation_0-merror:0.168634\n",
      "[7]\tvalidation_0-merror:0.160202\n",
      "[8]\tvalidation_0-merror:0.155143\n",
      "[9]\tvalidation_0-merror:0.151771\n",
      "[10]\tvalidation_0-merror:0.146712\n",
      "[11]\tvalidation_0-merror:0.13828\n",
      "[12]\tvalidation_0-merror:0.141653\n",
      "[13]\tvalidation_0-merror:0.143339\n",
      "[14]\tvalidation_0-merror:0.139966\n",
      "[15]\tvalidation_0-merror:0.141653\n",
      "[16]\tvalidation_0-merror:0.139966\n",
      "[17]\tvalidation_0-merror:0.139966\n",
      "[18]\tvalidation_0-merror:0.134907\n",
      "[19]\tvalidation_0-merror:0.134907\n",
      "[20]\tvalidation_0-merror:0.133221\n",
      "[21]\tvalidation_0-merror:0.126476\n",
      "[22]\tvalidation_0-merror:0.131535\n",
      "[23]\tvalidation_0-merror:0.131535\n",
      "[24]\tvalidation_0-merror:0.128162\n",
      "[25]\tvalidation_0-merror:0.128162\n",
      "[26]\tvalidation_0-merror:0.131535\n",
      "[27]\tvalidation_0-merror:0.126476\n",
      "[28]\tvalidation_0-merror:0.126476\n",
      "[29]\tvalidation_0-merror:0.128162\n",
      "[30]\tvalidation_0-merror:0.128162\n",
      "[31]\tvalidation_0-merror:0.128162\n",
      "[32]\tvalidation_0-merror:0.123103\n",
      "[33]\tvalidation_0-merror:0.124789\n",
      "[34]\tvalidation_0-merror:0.126476\n",
      "[35]\tvalidation_0-merror:0.121417\n",
      "[36]\tvalidation_0-merror:0.121417\n",
      "[37]\tvalidation_0-merror:0.11973\n",
      "[38]\tvalidation_0-merror:0.121417\n",
      "[39]\tvalidation_0-merror:0.11973\n",
      "[40]\tvalidation_0-merror:0.121417\n",
      "[41]\tvalidation_0-merror:0.121417\n",
      "[42]\tvalidation_0-merror:0.123103\n",
      "[43]\tvalidation_0-merror:0.123103\n",
      "[44]\tvalidation_0-merror:0.11973\n",
      "[45]\tvalidation_0-merror:0.121417\n",
      "[46]\tvalidation_0-merror:0.118044\n",
      "[47]\tvalidation_0-merror:0.118044\n",
      "[48]\tvalidation_0-merror:0.114671\n",
      "[49]\tvalidation_0-merror:0.111298\n",
      "[50]\tvalidation_0-merror:0.112985\n",
      "[51]\tvalidation_0-merror:0.114671\n",
      "[52]\tvalidation_0-merror:0.116358\n",
      "[53]\tvalidation_0-merror:0.109612\n",
      "[54]\tvalidation_0-merror:0.107926\n",
      "[55]\tvalidation_0-merror:0.107926\n",
      "[56]\tvalidation_0-merror:0.111298\n",
      "[57]\tvalidation_0-merror:0.112985\n",
      "[58]\tvalidation_0-merror:0.109612\n",
      "[59]\tvalidation_0-merror:0.109612\n",
      "[60]\tvalidation_0-merror:0.106239\n",
      "[61]\tvalidation_0-merror:0.106239\n",
      "[62]\tvalidation_0-merror:0.104553\n",
      "[63]\tvalidation_0-merror:0.104553\n",
      "[64]\tvalidation_0-merror:0.102867\n",
      "[65]\tvalidation_0-merror:0.102867\n",
      "[66]\tvalidation_0-merror:0.102867\n",
      "[67]\tvalidation_0-merror:0.099494\n",
      "[68]\tvalidation_0-merror:0.099494\n",
      "[69]\tvalidation_0-merror:0.097808\n",
      "[70]\tvalidation_0-merror:0.099494\n",
      "[71]\tvalidation_0-merror:0.096121\n",
      "[72]\tvalidation_0-merror:0.092749\n",
      "[73]\tvalidation_0-merror:0.091062\n",
      "[74]\tvalidation_0-merror:0.096121\n",
      "[75]\tvalidation_0-merror:0.094435\n",
      "[76]\tvalidation_0-merror:0.092749\n",
      "[77]\tvalidation_0-merror:0.092749\n",
      "[78]\tvalidation_0-merror:0.092749\n",
      "[79]\tvalidation_0-merror:0.094435\n",
      "[80]\tvalidation_0-merror:0.091062\n",
      "[81]\tvalidation_0-merror:0.089376\n",
      "[82]\tvalidation_0-merror:0.091062\n",
      "[83]\tvalidation_0-merror:0.089376\n",
      "[84]\tvalidation_0-merror:0.094435\n",
      "[85]\tvalidation_0-merror:0.094435\n",
      "[86]\tvalidation_0-merror:0.094435\n",
      "[87]\tvalidation_0-merror:0.094435\n",
      "[88]\tvalidation_0-merror:0.091062\n",
      "[89]\tvalidation_0-merror:0.092749\n",
      "[90]\tvalidation_0-merror:0.091062\n",
      "[91]\tvalidation_0-merror:0.089376\n",
      "[92]\tvalidation_0-merror:0.091062\n",
      "[93]\tvalidation_0-merror:0.089376\n",
      "[94]\tvalidation_0-merror:0.089376\n",
      "[95]\tvalidation_0-merror:0.089376\n",
      "[96]\tvalidation_0-merror:0.089376\n",
      "[97]\tvalidation_0-merror:0.08769\n",
      "[98]\tvalidation_0-merror:0.089376\n",
      "[99]\tvalidation_0-merror:0.089376\n"
     ]
    }
   ],
   "source": [
    "eval_set=[(valid_x_bf, y_valid)]\n",
    "xgb = XGBClassifier(learning_rate=0.1) # lr=0.1: 0.91, \n",
    "xgb.fit(train_x_bf, y_train, early_stopping_rounds=25, eval_set=eval_set, verbose=True, )\n",
    "xgb_valid_preds = xgb.predict(valid_x_bf)"
   ]
  },
  {
   "cell_type": "code",
   "execution_count": 256,
   "metadata": {
    "scrolled": true
   },
   "outputs": [
    {
     "name": "stdout",
     "output_type": "stream",
     "text": [
      "xgboost with Inception bottleneck on validation: 0.9106239460370995\n"
     ]
    }
   ],
   "source": [
    "print('xgboost with Inception bottleneck on validation: {}'.format(accuracy_score(y_valid, xgb_valid_preds)))"
   ]
  },
  {
   "cell_type": "markdown",
   "metadata": {},
   "source": [
    "# Predict test on best performance\n",
    "\n",
    "### Logistic Regression on Inception bottlencek features"
   ]
  },
  {
   "cell_type": "code",
   "execution_count": 260,
   "metadata": {},
   "outputs": [
    {
     "name": "stdout",
     "output_type": "stream",
     "text": [
      "Test Images shape: (1500, 299, 299, 3) size: 402,304,500\n"
     ]
    }
   ],
   "source": [
    "test = os.listdir('testset/')\n",
    "x_test = np.zeros((len(test), input_size, input_size, 3), dtype='float32')\n",
    "for i in range(len(test)):\n",
    "    img = image.load_img('testset/' + test[i],target_size=(input_size, input_size))\n",
    "    img = image.img_to_array(img)\n",
    "    x = applications.inception_v3.preprocess_input(np.expand_dims(img.copy(), axis=0))\n",
    "    x_test[i] = x\n",
    "print('Test Images shape: {} size: {:,}'.format(x_test.shape, x_test.size))"
   ]
  },
  {
   "cell_type": "code",
   "execution_count": 261,
   "metadata": {},
   "outputs": [
    {
     "name": "stdout",
     "output_type": "stream",
     "text": [
      "1500/1500 [==============================] - 7s 5ms/step\n",
      "Inception test bottleneck features shape: (1500, 2048) size: 3,072,000\n"
     ]
    }
   ],
   "source": [
    "test_x_bf = Inception_bottleneck.predict(x_test, batch_size=32, verbose=1)\n",
    "print('Inception test bottleneck features shape: {} size: {:,}'.format(test_x_bf.shape, test_x_bf.size))\n",
    "test_preds = logreg.predict(test_x_bf)"
   ]
  },
  {
   "cell_type": "code",
   "execution_count": 262,
   "metadata": {},
   "outputs": [],
   "source": [
    "test_preds = [inverdict.get(k) for k in test_preds] # map"
   ]
  },
  {
   "cell_type": "code",
   "execution_count": 263,
   "metadata": {},
   "outputs": [],
   "source": [
    "submission2 = pd.DataFrame({'class':[correct_dict[k] for k in test_preds], 'id':[i.split('.')[0] for i in test]})\n",
    "submission2 = submission2[['id','class']]"
   ]
  },
  {
   "cell_type": "code",
   "execution_count": 264,
   "metadata": {},
   "outputs": [],
   "source": [
    "submission2.to_csv('submission2.csv',index=False)"
   ]
  },
  {
   "cell_type": "code",
   "execution_count": null,
   "metadata": {},
   "outputs": [],
   "source": []
  }
 ],
 "metadata": {
  "kernelspec": {
   "display_name": "Python 3",
   "language": "python",
   "name": "python3"
  },
  "language_info": {
   "codemirror_mode": {
    "name": "ipython",
    "version": 3
   },
   "file_extension": ".py",
   "mimetype": "text/x-python",
   "name": "python",
   "nbconvert_exporter": "python",
   "pygments_lexer": "ipython3",
   "version": "3.5.2"
  }
 },
 "nbformat": 4,
 "nbformat_minor": 2
}
